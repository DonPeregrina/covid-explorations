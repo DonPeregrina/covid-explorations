{
 "cells": [
  {
   "cell_type": "code",
   "execution_count": 1,
   "metadata": {},
   "outputs": [],
   "source": [
    "import pandas as pd"
   ]
  },
  {
   "cell_type": "markdown",
   "metadata": {},
   "source": [
    "Recursos disponibles en el IMSS para Nuevo Leon"
   ]
  },
  {
   "cell_type": "code",
   "execution_count": 4,
   "metadata": {},
   "outputs": [],
   "source": [
    "recursos_salud = pd.read_csv('Recursos_Salud_2018.csv', encoding=\"latin-1\")"
   ]
  },
  {
   "cell_type": "code",
   "execution_count": 12,
   "metadata": {},
   "outputs": [
    {
     "data": {
      "text/plain": [
       "Nombre Estado\n",
       "AGUASCALIENTES                       966\n",
       "BAJA CALIFORNIA                     2153\n",
       "BAJA CALIFORNIA SUR                  695\n",
       "CAMPECHE                             790\n",
       "CHIAPAS                             2260\n",
       "CHIHUAHUA                           2915\n",
       "CIUDAD DE MEXICO                   15632\n",
       "COAHUILA DE ZARAGOZA                2915\n",
       "COLIMA                               649\n",
       "DURANGO                             1542\n",
       "GUANAJUATO                          3657\n",
       "GUERRERO                            2075\n",
       "HIDALGO                             1367\n",
       "JALISCO                             6460\n",
       "MEXICO                              8356\n",
       "MICHOACAN DE OCAMPO                 2648\n",
       "MORELOS                             1047\n",
       "NAYARIT                              714\n",
       "NUEVO LEON                          4077\n",
       "OAXACA                              2352\n",
       "PUEBLA                              4012\n",
       "QUERETARO                            881\n",
       "QUINTANA ROO                        1030\n",
       "SAN LUIS POTOSI                     2021\n",
       "SINALOA                             2382\n",
       "SONORA                              2894\n",
       "TABASCO                             1583\n",
       "TAMAULIPAS                          2977\n",
       "TLAXCALA                             714\n",
       "VERACRUZ DE IGNACIO DE LA LLAVE     4999\n",
       "YUCATAN                             1800\n",
       "ZACATECAS                            999\n",
       "Name: TOTAL CAMAS AREA HOSPITALIZACIÓN, dtype: int64"
      ]
     },
     "execution_count": 12,
     "metadata": {},
     "output_type": "execute_result"
    }
   ],
   "source": [
    "recursos_salud.groupby('Nombre Estado')['TOTAL CAMAS AREA HOSPITALIZACIÓN'].sum()"
   ]
  },
  {
   "cell_type": "markdown",
   "metadata": {},
   "source": [
    "Camas por empleado"
   ]
  },
  {
   "cell_type": "code",
   "execution_count": 98,
   "metadata": {},
   "outputs": [],
   "source": [
    "recursos_salud = recursos_salud[recursos_salud['Nombre Estado'] == 'NUEVO LEON']"
   ]
  },
  {
   "cell_type": "code",
   "execution_count": 99,
   "metadata": {},
   "outputs": [
    {
     "name": "stderr",
     "output_type": "stream",
     "text": [
      "/Users/ricalanis/anaconda3/lib/python3.7/site-packages/ipykernel_launcher.py:4: SettingWithCopyWarning: \n",
      "A value is trying to be set on a copy of a slice from a DataFrame.\n",
      "Try using .loc[row_indexer,col_indexer] = value instead\n",
      "\n",
      "See the caveats in the documentation: http://pandas.pydata.org/pandas-docs/stable/indexing.html#indexing-view-versus-copy\n",
      "  after removing the cwd from sys.path.\n"
     ]
    }
   ],
   "source": [
    "recursos_salud['empleados']  =recursos_salud['Total médicos generales y especialistas'] + \\\n",
    "        recursos_salud['Total personal técnico'] + \\\n",
    "        recursos_salud['Total personal profesional'] \\\n",
    "        + recursos_salud['Total otro personal'] "
   ]
  },
  {
   "cell_type": "code",
   "execution_count": 100,
   "metadata": {},
   "outputs": [
    {
     "name": "stderr",
     "output_type": "stream",
     "text": [
      "/Users/ricalanis/anaconda3/lib/python3.7/site-packages/ipykernel_launcher.py:1: SettingWithCopyWarning: \n",
      "A value is trying to be set on a copy of a slice from a DataFrame.\n",
      "Try using .loc[row_indexer,col_indexer] = value instead\n",
      "\n",
      "See the caveats in the documentation: http://pandas.pydata.org/pandas-docs/stable/indexing.html#indexing-view-versus-copy\n",
      "  \"\"\"Entry point for launching an IPython kernel.\n"
     ]
    }
   ],
   "source": [
    "recursos_salud['camas'] = recursos_salud['TOTAL CAMAS AREA HOSPITALIZACIÓN'] "
   ]
  },
  {
   "cell_type": "code",
   "execution_count": 122,
   "metadata": {},
   "outputs": [
    {
     "data": {
      "text/plain": [
       "<matplotlib.axes._subplots.AxesSubplot at 0x2362731d0>"
      ]
     },
     "execution_count": 122,
     "metadata": {},
     "output_type": "execute_result"
    },
    {
     "data": {
      "image/png": "[encoded data removed]",
      "text/plain": [
       "<Figure size 432x288 with 1 Axes>"
      ]
     },
     "metadata": {
      "needs_background": "light"
     },
     "output_type": "display_data"
    }
   ],
   "source": [
    "recursos_salud['camas'].hist()"
   ]
  },
  {
   "cell_type": "code",
   "execution_count": 101,
   "metadata": {},
   "outputs": [],
   "source": [
    "import pandas as pd\n",
    "import seaborn as sns\n",
    "import statsmodels.formula.api as smf\n",
    "from sklearn.linear_model import LinearRegression\n",
    "from sklearn import metrics\n",
    "from sklearn.model_selection import train_test_split\n",
    "import numpy as np\n",
    "\n",
    "# allow plots to appear directly in the notebook\n",
    "%matplotlib inline"
   ]
  },
  {
   "cell_type": "code",
   "execution_count": 102,
   "metadata": {},
   "outputs": [],
   "source": [
    "lm1 = smf.ols(formula='camas ~ empleados', data=recursos_salud).fit()"
   ]
  },
  {
   "cell_type": "markdown",
   "metadata": {},
   "source": [
    "Regresion de recursos disponibles aproximados"
   ]
  },
  {
   "cell_type": "code",
   "execution_count": 103,
   "metadata": {},
   "outputs": [
    {
     "data": {
      "text/plain": [
       "LinearRegression(copy_X=True, fit_intercept=True, n_jobs=None,\n",
       "         normalize=False)"
      ]
     },
     "execution_count": 103,
     "metadata": {},
     "output_type": "execute_result"
    }
   ],
   "source": [
    "feature_cols = ['empleados']\n",
    "X = recursos_salud[feature_cols]\n",
    "y = recursos_salud.camas\n",
    "# Initiate and fit\n",
    "lm2 = LinearRegression()\n",
    "lm2.fit(X, y)"
   ]
  },
  {
   "cell_type": "code",
   "execution_count": 104,
   "metadata": {},
   "outputs": [
    {
     "name": "stdout",
     "output_type": "stream",
     "text": [
      "iNTERCEPT :  -2.5701335753244345\n",
      "CO-EFFICIENT :  [0.25543953]\n"
     ]
    }
   ],
   "source": [
    "print (\"iNTERCEPT : \",lm2.intercept_)\n",
    "print (\"CO-EFFICIENT : \",lm2.coef_)"
   ]
  },
  {
   "cell_type": "code",
   "execution_count": 105,
   "metadata": {},
   "outputs": [
    {
     "data": {
      "text/plain": [
       "0.826589780635767"
      ]
     },
     "execution_count": 105,
     "metadata": {},
     "output_type": "execute_result"
    }
   ],
   "source": [
    "lm2.score(X,y)"
   ]
  },
  {
   "cell_type": "code",
   "execution_count": 106,
   "metadata": {},
   "outputs": [
    {
     "name": "stderr",
     "output_type": "stream",
     "text": [
      "/Users/ricalanis/anaconda3/lib/python3.7/site-packages/seaborn/axisgrid.py:2065: UserWarning: The `size` parameter has been renamed to `height`; pleaes update your code.\n",
      "  warnings.warn(msg, UserWarning)\n"
     ]
    },
    {
     "data": {
      "text/plain": [
       "<seaborn.axisgrid.PairGrid at 0x235d67e80>"
      ]
     },
     "execution_count": 106,
     "metadata": {},
     "output_type": "execute_result"
    },
    {
     "data": {
      "image/png": "[encoded data removed]",
      "text/plain": [
       "<Figure size 352.8x504 with 1 Axes>"
      ]
     },
     "metadata": {
      "needs_background": "light"
     },
     "output_type": "display_data"
    }
   ],
   "source": [
    "sns.pairplot(recursos_salud, x_vars=['empleados'], y_vars='camas', size=7, aspect=0.7, kind='reg')"
   ]
  },
  {
   "cell_type": "code",
   "execution_count": 107,
   "metadata": {},
   "outputs": [],
   "source": [
    "import requests"
   ]
  },
  {
   "cell_type": "code",
   "execution_count": 108,
   "metadata": {},
   "outputs": [],
   "source": [
    "url = 'https://www.inegi.org.mx/app/mapa/componente/Espacial.ashx'"
   ]
  },
  {
   "cell_type": "code",
   "execution_count": 109,
   "metadata": {},
   "outputs": [],
   "source": [
    "params = {\n",
    "    'metodo':'ArmabusquedaEstablecimientos',\n",
    "    'Ac_eco[0][sec]':'',\n",
    "    'Ac_eco[1][subsec]':'622,623',\n",
    "    'Ac_eco[2][rama]':'',\n",
    "    'Ac_eco[3][subra]':'',\n",
    "    'Ac_eco[4][clase]':'',\n",
    "    'Tamaño':'',\n",
    "    'Cve_geo[0][ent]':19,\n",
    "    'Cve_geo[1][mun]':'',\n",
    "    'Cve_geo[2][loc]':'',\n",
    "    'Txt_gral':'',\n",
    "    'Txt_nom':'',\n",
    "    'Txt_calle':'',\n",
    "    'Txt_colonia':'',\n",
    "    'Txt_cp':'',\n",
    "    'Txt_vc':'',\n",
    "    'Txt_prod':'',\n",
    "    'Txt_paisexp':'',\n",
    "    'Txt_paisimp':'',\n",
    "    'Txt_camara':'',\n",
    "    'Txt_mts':'',\n",
    "    'Txt_radio':'',\n",
    "    'Txt_coord':'',\n",
    "    'idee':'',\n",
    "    'Pagini':1,\n",
    "    'Pagfin':5000\n",
    "}"
   ]
  },
  {
   "cell_type": "markdown",
   "metadata": {},
   "source": [
    "(622) Hospitales\n",
    "(623) Residencias de asistencia social \n",
    "En NL\n"
   ]
  },
  {
   "cell_type": "code",
   "execution_count": 110,
   "metadata": {},
   "outputs": [],
   "source": [
    "data = requests.post(url,params).json()"
   ]
  },
  {
   "cell_type": "code",
   "execution_count": 111,
   "metadata": {},
   "outputs": [],
   "source": [
    "hospitales_denue = data['obj']"
   ]
  },
  {
   "cell_type": "code",
   "execution_count": 119,
   "metadata": {},
   "outputs": [],
   "source": [
    "def get_employees(denue_id):\n",
    "    return requests.get(f'https://www.inegi.org.mx/app/mapa/componente/APIGeografico/infowindowDenue/{denue_id}/DENUE/62').json()[0]['d14']"
   ]
  },
  {
   "cell_type": "code",
   "execution_count": 120,
   "metadata": {},
   "outputs": [],
   "source": [
    "employees_per_hospital = [get_employees(hospital[0]) for hospital in hospitales_denue]"
   ]
  },
  {
   "cell_type": "code",
   "execution_count": 114,
   "metadata": {},
   "outputs": [],
   "source": [
    "employees_overwite_mas = [x.replace('más', '250') for x in employees_per_hospital]"
   ]
  },
  {
   "cell_type": "code",
   "execution_count": 115,
   "metadata": {},
   "outputs": [],
   "source": [
    "import numpy as np"
   ]
  },
  {
   "cell_type": "code",
   "execution_count": 116,
   "metadata": {},
   "outputs": [
    {
     "data": {
      "text/plain": [
       "2507.365260459115"
      ]
     },
     "execution_count": 116,
     "metadata": {},
     "output_type": "execute_result"
    }
   ],
   "source": [
    "np.sum(lm2.predict([[int(hospital.split()[0])] for hospital in employees_per_hospital]))"
   ]
  },
  {
   "cell_type": "code",
   "execution_count": 117,
   "metadata": {},
   "outputs": [
    {
     "data": {
      "text/plain": [
       "4672.981617190715"
      ]
     },
     "execution_count": 117,
     "metadata": {},
     "output_type": "execute_result"
    }
   ],
   "source": [
    "np.sum(lm2.predict([[int(hospital.split()[2])] for hospital in employees_overwite_mas]))"
   ]
  }
 ],
 "metadata": {
  "kernelspec": {
   "display_name": "Python 3",
   "language": "python",
   "name": "python3"
  },
  "language_info": {
   "codemirror_mode": {
    "name": "ipython",
    "version": 3
   },
   "file_extension": ".py",
   "mimetype": "text/x-python",
   "name": "python",
   "nbconvert_exporter": "python",
   "pygments_lexer": "ipython3",
   "version": "3.7.3"
  }
 },
 "nbformat": 4,
 "nbformat_minor": 2
}
