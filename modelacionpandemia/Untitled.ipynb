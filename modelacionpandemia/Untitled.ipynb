{
 "cells": [
  {
   "cell_type": "code",
   "execution_count": 4,
   "metadata": {},
   "outputs": [],
   "source": [
    "container ='MEDUJ2210782'"
   ]
  },
  {
   "cell_type": "code",
   "execution_count": 6,
   "metadata": {},
   "outputs": [],
   "source": [
    "import requests"
   ]
  },
  {
   "cell_type": "code",
   "execution_count": 8,
   "metadata": {},
   "outputs": [],
   "source": [
    "response = {}"
   ]
  },
  {
   "cell_type": "code",
   "execution_count": 14,
   "metadata": {},
   "outputs": [],
   "source": [
    "from xml.etree import ElementTree as ET\n",
    "from datetime import datetime\n",
    "import pandas as pd\n",
    "import requests\n",
    "\n"
   ]
  },
  {
   "cell_type": "code",
   "execution_count": 40,
   "metadata": {},
   "outputs": [],
   "source": [
    "def parse_info( body):\n",
    "    root = ET.fromstring(body)\n",
    "    print(body)\n",
    "    df = pd.DataFrame()\n",
    "    containers = []\n",
    "    for description in root.findall('channel/item/description'):\n",
    "        event = pd.read_html(description.text)[0].T\n",
    "        event.columns = event.iloc[0]\n",
    "        event = event[2:]\n",
    "        df = pd.concat([df, event], sort=False)\n",
    "    for title in root.iter('title'):\n",
    "        containers.append(title.text.split()[0].replace(':', ''))\n",
    "    print(root.findall('description'))\n",
    "    return df.to_dict(orient='rows')"
   ]
  },
  {
   "cell_type": "code",
   "execution_count": 42,
   "metadata": {},
   "outputs": [
    {
     "name": "stdout",
     "output_type": "stream",
     "text": [
      "b'<?xml version=\"1.0\" encoding=\"utf-8\"?>\\r\\n<rss xmlns:a10=\"http://www.w3.org/2005/Atom\" version=\"2.0\">\\r\\n  <channel>\\r\\n    <title>MEDU7132660 container Tracking Information</title>\\r\\n    <link>http://wcf.mscgva.ch/publicasmx/Tracking.asmx/GetRSSTrackingByContainerNumber?ContainerNumber=MEDU7132660</link>\\r\\n    <description>Container Tracking Information</description>\\r\\n    <lastBuildDate>Thu, 26 Mar 2020 00:30:40 +0100</lastBuildDate>\\r\\n    <item>\\r\\n      <link>http://wcf.mscgva.ch/publicasmx/Tracking.asmx/GetRSSTrackingByContainerNumber?ContainerNumber=MEDU7132660&amp;x=1</link>\\r\\n      <title>Estimated Time of Arrival in LEGHORN</title>\\r\\n      <description>\\r\\n\\r\\n&lt;table cellpadding=\"0\" cellspacing=\"5\" border=\"0\"&gt;\\r\\n\\t&lt;tr&gt;&lt;td&gt;&lt;u&gt;&lt;b&gt;Location&lt;/b&gt;&lt;/u&gt;&lt;td&gt;&lt;b&gt;:&lt;/b&gt;&lt;/td&gt;&lt;/td&gt;&lt;td&gt;LEGHORN, IT&lt;/td&gt;&lt;/tr&gt;\\r\\n\\t&lt;tr&gt;&lt;td&gt;&lt;u&gt;&lt;b&gt;Description&lt;/b&gt;&lt;/u&gt;&lt;td&gt;&lt;b&gt;:&lt;/b&gt;&lt;/td&gt;&lt;/td&gt;&lt;td&gt;Estimated Time of Arrival&lt;/td&gt;&lt;/tr&gt;\\r\\n\\t&lt;tr&gt;&lt;td&gt;&lt;u&gt;&lt;b&gt;Date&lt;/b&gt;&lt;/u&gt;&lt;td&gt;&lt;b&gt;:&lt;/b&gt;&lt;/td&gt;&lt;/td&gt;&lt;td&gt;\\r\\nApril 8, 2020\\r\\n\\t &lt;/td&gt;&lt;/tr&gt;\\r\\n\\t&lt;tr&gt;&lt;td&gt;&lt;u&gt;&lt;b&gt;Vessel&lt;/b&gt;&lt;/u&gt;&lt;td&gt;&lt;b&gt;:&lt;/b&gt;&lt;/td&gt;&lt;/td&gt;&lt;td&gt;GSL KALLIOPI\\r\\n\\r\\n    \\t&lt;/td&gt;&lt;/tr&gt;\\r\\n\\r\\n&lt;tr&gt;&lt;td&gt;&lt;u&gt;&lt;b&gt;Final Discharge Port&lt;/b&gt;&lt;/u&gt;&lt;td&gt;&lt;b&gt;:&lt;/b&gt;&lt;/td&gt;&lt;/td&gt;&lt;td&gt;LEGHORN IT\\r\\n&lt;a href=\"javascript:void(0);\" title=\"Estimated Time of Arrival\"&gt;ETA&lt;/a&gt;\\r\\n : April 8, 2020 \\r\\n&lt;/td&gt;&lt;/tr&gt;\\r\\n\\r\\n&lt;/table&gt;\\r\\n\\r\\n</description>\\r\\n      <pubDate>Wed, 08 Apr 2020 07:30:00 +0200</pubDate>\\r\\n      <a10:updated>2020-04-08T07:30:00+02:00</a10:updated>\\r\\n    </item>\\r\\n    <item>\\r\\n      <link>http://wcf.mscgva.ch/publicasmx/Tracking.asmx/GetRSSTrackingByContainerNumber?ContainerNumber=MEDU7132660&amp;x=2</link>\\r\\n      <title>Loaded in SAVANNAH</title>\\r\\n      <description>\\r\\n\\r\\n&lt;table cellpadding=\"0\" cellspacing=\"5\" border=\"0\"&gt;\\r\\n\\t&lt;tr&gt;&lt;td&gt;&lt;u&gt;&lt;b&gt;Location&lt;/b&gt;&lt;/u&gt;&lt;td&gt;&lt;b&gt;:&lt;/b&gt;&lt;/td&gt;&lt;/td&gt;&lt;td&gt;SAVANNAH, GA, US&lt;/td&gt;&lt;/tr&gt;\\r\\n\\t&lt;tr&gt;&lt;td&gt;&lt;u&gt;&lt;b&gt;Description&lt;/b&gt;&lt;/u&gt;&lt;td&gt;&lt;b&gt;:&lt;/b&gt;&lt;/td&gt;&lt;/td&gt;&lt;td&gt;Loaded&lt;/td&gt;&lt;/tr&gt;\\r\\n\\t&lt;tr&gt;&lt;td&gt;&lt;u&gt;&lt;b&gt;Date&lt;/b&gt;&lt;/u&gt;&lt;td&gt;&lt;b&gt;:&lt;/b&gt;&lt;/td&gt;&lt;/td&gt;&lt;td&gt;\\r\\nMarch 16, 2020\\r\\n\\t &lt;/td&gt;&lt;/tr&gt;\\r\\n\\t&lt;tr&gt;&lt;td&gt;&lt;u&gt;&lt;b&gt;Vessel&lt;/b&gt;&lt;/u&gt;&lt;td&gt;&lt;b&gt;:&lt;/b&gt;&lt;/td&gt;&lt;/td&gt;&lt;td&gt;GSL KALLIOPI\\r\\n\\r\\n    \\t&lt;/td&gt;&lt;/tr&gt;\\r\\n\\t&lt;tr&gt;&lt;td&gt;&lt;u&gt;&lt;b&gt;Voyage&lt;/b&gt;&lt;/u&gt;&lt;td&gt;&lt;b&gt;:&lt;/b&gt;&lt;/td&gt;&lt;/td&gt;&lt;td&gt;011E&lt;/td&gt;&lt;/tr&gt;\\r\\n\\r\\n&lt;tr&gt;&lt;td&gt;&lt;u&gt;&lt;b&gt;Final Discharge Port&lt;/b&gt;&lt;/u&gt;&lt;td&gt;&lt;b&gt;:&lt;/b&gt;&lt;/td&gt;&lt;/td&gt;&lt;td&gt;LEGHORN IT\\r\\n&lt;a href=\"javascript:void(0);\" title=\"Estimated Time of Arrival\"&gt;ETA&lt;/a&gt;\\r\\n : April 8, 2020 \\r\\n&lt;/td&gt;&lt;/tr&gt;\\r\\n\\r\\n&lt;/table&gt;\\r\\n\\r\\n</description>\\r\\n      <pubDate>Mon, 16 Mar 2020 23:18:00 +0100</pubDate>\\r\\n      <a10:updated>2020-03-16T23:18:00+01:00</a10:updated>\\r\\n    </item>\\r\\n    <item>\\r\\n      <link>http://wcf.mscgva.ch/publicasmx/Tracking.asmx/GetRSSTrackingByContainerNumber?ContainerNumber=MEDU7132660&amp;x=3</link>\\r\\n      <title>Gate In Full in SAVANNAH</title>\\r\\n      <description>\\r\\n\\r\\n&lt;table cellpadding=\"0\" cellspacing=\"5\" border=\"0\"&gt;\\r\\n\\t&lt;tr&gt;&lt;td&gt;&lt;u&gt;&lt;b&gt;Location&lt;/b&gt;&lt;/u&gt;&lt;td&gt;&lt;b&gt;:&lt;/b&gt;&lt;/td&gt;&lt;/td&gt;&lt;td&gt;SAVANNAH, GA, US&lt;/td&gt;&lt;/tr&gt;\\r\\n\\t&lt;tr&gt;&lt;td&gt;&lt;u&gt;&lt;b&gt;Description&lt;/b&gt;&lt;/u&gt;&lt;td&gt;&lt;b&gt;:&lt;/b&gt;&lt;/td&gt;&lt;/td&gt;&lt;td&gt;Gate In Full&lt;/td&gt;&lt;/tr&gt;\\r\\n\\t&lt;tr&gt;&lt;td&gt;&lt;u&gt;&lt;b&gt;Date&lt;/b&gt;&lt;/u&gt;&lt;td&gt;&lt;b&gt;:&lt;/b&gt;&lt;/td&gt;&lt;/td&gt;&lt;td&gt;\\r\\nMarch 10, 2020\\r\\n\\t &lt;/td&gt;&lt;/tr&gt;\\r\\n\\r\\n&lt;/table&gt;\\r\\n\\r\\n</description>\\r\\n      <pubDate>Tue, 10 Mar 2020 09:05:00 +0100</pubDate>\\r\\n      <a10:updated>2020-03-10T09:05:00+01:00</a10:updated>\\r\\n    </item>\\r\\n    <item>\\r\\n      <link>http://wcf.mscgva.ch/publicasmx/Tracking.asmx/GetRSSTrackingByContainerNumber?ContainerNumber=MEDU7132660&amp;x=4</link>\\r\\n      <title>Empty to Shipper in SAVANNAH</title>\\r\\n      <description>\\r\\n\\r\\n&lt;table cellpadding=\"0\" cellspacing=\"5\" border=\"0\"&gt;\\r\\n\\t&lt;tr&gt;&lt;td&gt;&lt;u&gt;&lt;b&gt;Location&lt;/b&gt;&lt;/u&gt;&lt;td&gt;&lt;b&gt;:&lt;/b&gt;&lt;/td&gt;&lt;/td&gt;&lt;td&gt;SAVANNAH, GA, US&lt;/td&gt;&lt;/tr&gt;\\r\\n\\t&lt;tr&gt;&lt;td&gt;&lt;u&gt;&lt;b&gt;Description&lt;/b&gt;&lt;/u&gt;&lt;td&gt;&lt;b&gt;:&lt;/b&gt;&lt;/td&gt;&lt;/td&gt;&lt;td&gt;Empty to Shipper&lt;/td&gt;&lt;/tr&gt;\\r\\n\\t&lt;tr&gt;&lt;td&gt;&lt;u&gt;&lt;b&gt;Date&lt;/b&gt;&lt;/u&gt;&lt;td&gt;&lt;b&gt;:&lt;/b&gt;&lt;/td&gt;&lt;/td&gt;&lt;td&gt;\\r\\nFebruary 18, 2020\\r\\n\\t &lt;/td&gt;&lt;/tr&gt;\\r\\n\\r\\n&lt;/table&gt;\\r\\n\\r\\n</description>\\r\\n      <pubDate>Tue, 18 Feb 2020 08:30:00 +0100</pubDate>\\r\\n      <a10:updated>2020-02-18T08:30:00+01:00</a10:updated>\\r\\n    </item>\\r\\n  </channel>\\r\\n</rss>'\n",
      "[]\n"
     ]
    },
    {
     "ename": "NameError",
     "evalue": "name 'get_container_times' is not defined",
     "output_type": "error",
     "traceback": [
      "\u001b[0;31m-------------------------------------------------------------------\u001b[0m",
      "\u001b[0;31mNameError\u001b[0m                         Traceback (most recent call last)",
      "\u001b[0;32m<ipython-input-42-ab69265d294b>\u001b[0m in \u001b[0;36m<module>\u001b[0;34m\u001b[0m\n\u001b[1;32m      8\u001b[0m \u001b[0mresponse\u001b[0m\u001b[0;34m[\u001b[0m\u001b[0;34m'destination'\u001b[0m\u001b[0;34m]\u001b[0m \u001b[0;34m=\u001b[0m \u001b[0mresponse\u001b[0m\u001b[0;34m[\u001b[0m\u001b[0;34m'events'\u001b[0m\u001b[0;34m]\u001b[0m\u001b[0;34m[\u001b[0m\u001b[0;36m0\u001b[0m\u001b[0;34m]\u001b[0m\u001b[0;34m[\u001b[0m\u001b[0;34m'Location'\u001b[0m\u001b[0;34m]\u001b[0m\u001b[0;34m\u001b[0m\u001b[0;34m\u001b[0m\u001b[0m\n\u001b[1;32m      9\u001b[0m \u001b[0;34m\u001b[0m\u001b[0m\n\u001b[0;32m---> 10\u001b[0;31m \u001b[0mtimes\u001b[0m \u001b[0;34m=\u001b[0m \u001b[0;34m{\u001b[0m \u001b[0;34m'arrival'\u001b[0m\u001b[0;34m:\u001b[0m \u001b[0mget_container_times\u001b[0m\u001b[0;34m(\u001b[0m\u001b[0;34m)\u001b[0m\u001b[0;34m,\u001b[0m \u001b[0;34m'departure'\u001b[0m\u001b[0;34m:\u001b[0m \u001b[0;34m'N/A'\u001b[0m \u001b[0;34m}\u001b[0m\u001b[0;34m\u001b[0m\u001b[0;34m\u001b[0m\u001b[0m\n\u001b[0m\u001b[1;32m     11\u001b[0m \u001b[0;34m\u001b[0m\u001b[0m\n\u001b[1;32m     12\u001b[0m \u001b[0mlast_event\u001b[0m \u001b[0;34m=\u001b[0m \u001b[0mresponse\u001b[0m\u001b[0;34m[\u001b[0m\u001b[0;34m'events'\u001b[0m\u001b[0;34m]\u001b[0m\u001b[0;34m[\u001b[0m\u001b[0mevent_index_validation\u001b[0m\u001b[0;34m(\u001b[0m\u001b[0mresponse\u001b[0m\u001b[0;34m[\u001b[0m\u001b[0;34m'events'\u001b[0m\u001b[0;34m]\u001b[0m\u001b[0;34m[\u001b[0m\u001b[0;36m0\u001b[0m\u001b[0;34m]\u001b[0m\u001b[0;34m[\u001b[0m\u001b[0;34m'Description'\u001b[0m\u001b[0;34m]\u001b[0m\u001b[0;34m)\u001b[0m\u001b[0;34m]\u001b[0m\u001b[0;34m\u001b[0m\u001b[0;34m\u001b[0m\u001b[0m\n",
      "\u001b[0;31mNameError\u001b[0m: name 'get_container_times' is not defined"
     ]
    }
   ],
   "source": [
    "URL_info = f'http://wcf.mscgva.ch/publicasmx/Tracking.asmx/GetRSSTrackingByContainerNumber?ContainerNumber=MEDU7132660'\n",
    "body = requests.get(URL_info).content\n",
    "response['containers'] = [container]\n",
    "response['raw_data'] = body.decode('utf-8')\n",
    "response['events'] = parse_info(body)\n",
    "#Not really sure about this one. Events not yet to happen?\n",
    "response['origin'] = response['events'][-1]['Location']\n",
    "response['destination'] = response['events'][0]['Location']\n",
    "\n",
    "times = { 'arrival': get_container_times(), 'departure': 'N/A' }\n",
    "\n",
    "last_event = response['events'][event_index_validation(response['events'][0]['Description'])]\n",
    "vessel_last_event = last_event['Vessel'] if 'Vessel' in last_event and isinstance(last_event['Vessel'], str) else ''\n",
    "last_event = {\n",
    "    'container': container,\n",
    "    'status': last_event['Description'],\n",
    "    'vessel': vessel_last_event,\n",
    "    'location': last_event['Location']\n",
    "}\n",
    "\n"
   ]
  },
  {
   "cell_type": "code",
   "execution_count": 16,
   "metadata": {},
   "outputs": [],
   "source": []
  },
  {
   "cell_type": "code",
   "execution_count": null,
   "metadata": {},
   "outputs": [],
   "source": []
  }
 ],
 "metadata": {
  "kernelspec": {
   "display_name": "Python 3",
   "language": "python",
   "name": "python3"
  },
  "language_info": {
   "codemirror_mode": {
    "name": "ipython",
    "version": 3
   },
   "file_extension": ".py",
   "mimetype": "text/x-python",
   "name": "python",
   "nbconvert_exporter": "python",
   "pygments_lexer": "ipython3",
   "version": "3.7.3"
  }
 },
 "nbformat": 4,
 "nbformat_minor": 2
}
