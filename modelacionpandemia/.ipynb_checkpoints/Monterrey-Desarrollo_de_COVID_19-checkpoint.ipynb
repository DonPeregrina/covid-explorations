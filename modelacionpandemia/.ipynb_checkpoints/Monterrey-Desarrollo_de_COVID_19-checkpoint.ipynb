{
 "cells": [
  {
   "cell_type": "code",
   "execution_count": 1,
   "metadata": {},
   "outputs": [],
   "source": [
    "%matplotlib inline"
   ]
  },
  {
   "cell_type": "code",
   "execution_count": 1,
   "metadata": {
    "colab": {},
    "colab_type": "code",
    "id": "bxullSSlDOwB"
   },
   "outputs": [
    {
     "name": "stderr",
     "output_type": "stream",
     "text": [
      "/Users/ricalanis/anaconda3/lib/python3.7/site-packages/dask/config.py:168: YAMLLoadWarning: calling yaml.load() without Loader=... is deprecated, as the default Loader is unsafe. Please read https://msg.pyyaml.org/load for full details.\n",
      "  data = yaml.load(f.read()) or {}\n",
      "/Users/ricalanis/anaconda3/lib/python3.7/site-packages/distributed/config.py:20: YAMLLoadWarning: calling yaml.load() without Loader=... is deprecated, as the default Loader is unsafe. Please read https://msg.pyyaml.org/load for full details.\n",
      "  defaults = yaml.load(f)\n"
     ]
    }
   ],
   "source": [
    "#@title Esta celda importa librerías que necesitaremos { display-mode: \"form\" }\n",
    "%matplotlib inline\n",
    "import numpy as np\n",
    "from IPython.display import display, Markdown\n",
    "import matplotlib.pyplot as plt\n",
    "import matplotlib\n",
    "import pandas as pd\n",
    "import seaborn as sns\n",
    "import arviz as az\n",
    "import pymc3 as pm\n",
    "import altair as alt\n",
    "import plotly.express as px\n",
    "import requests\n",
    "import io\n",
    "\n",
    "sns.set_context('talk')\n",
    "plt.style.use('seaborn-whitegrid')"
   ]
  },
  {
   "cell_type": "code",
   "execution_count": 15,
   "metadata": {
    "colab": {},
    "colab_type": "code",
    "id": "9_oyN4etEbwq"
   },
   "outputs": [],
   "source": [
    "dias_evaluacion = 90 #asumimos 90 días\n",
    "dt = 1\n",
    "periodo_evaluacion = np.linspace(0, dias_evaluacion, dias_evaluacion + 1)\n",
    "\n",
    "alpha = 0.2\n",
    "beta = 1.75\n",
    "gamma = 0.5\n",
    "parametros = alpha, beta, gamma\n",
    "\n",
    "#Condiciones iniciales de la ZMG\n",
    "ZMM_Population = 4225000 \n",
    "I_o = 32 / ZMM_Population  # Tenemos 32 casos\n",
    "E_o = (32*4)/ZMM_Population # Asumimos 4 expuestos por caso\n",
    "S_o = (1) - (E_o+I_o) # El resto somos suceptibles\n",
    "R_o = 0 # NO hay ningun recuperado\n",
    "\n",
    "Condiciones_Iniciales = S_o,E_o,I_o,R_o"
   ]
  },
  {
   "cell_type": "code",
   "execution_count": 16,
   "metadata": {
    "colab": {},
    "colab_type": "code",
    "id": "n2Os-z63m3-0"
   },
   "outputs": [],
   "source": [
    "def SEIR(IC,pmtrs,t,theta=1):\n",
    "  \"\"\"\n",
    "  Esta parte de código es la que implementa las ecuaciones diferenciales.\n",
    "\n",
    "  Se resuelven por medio de integración númerica de Euler\n",
    "  \"\"\"\n",
    "  \n",
    "  So,Eo,Io,Ro = IC\n",
    "  S,E,I,R = [So],[Eo],[Io],[Ro]\n",
    "  alpha,beta,gamma = pmtrs\n",
    "  dt = t[1]-t[0]\n",
    "  for _ in t[1:]:\n",
    "    St = S[-1] - (theta*beta*S[-1]*I[-1])*dt\n",
    "    Et = E[-1] + (theta*beta*S[-1]*I[-1] - alpha*E[-1])*dt\n",
    "    It = I[-1] + (alpha*E[-1] - gamma*I[-1])*dt\n",
    "    Rt = R[-1] + (gamma*I[-1])*dt\n",
    "    S.append(St)\n",
    "    E.append(Et)\n",
    "    I.append(It)\n",
    "    R.append(Rt)\n",
    "  return S,E,I,R"
   ]
  },
  {
   "cell_type": "code",
   "execution_count": 17,
   "metadata": {
    "colab": {},
    "colab_type": "code",
    "id": "qOoK-dYbnMKN"
   },
   "outputs": [],
   "source": [
    "S,E,I,R = SEIR(Condiciones_Iniciales,parametros,periodo_evaluacion) # Obtenemos los suceptibles, expuestos, infectados y recuperados para los proximos 90 dias"
   ]
  },
  {
   "cell_type": "code",
   "execution_count": 18,
   "metadata": {
    "colab": {
     "base_uri": "https://localhost:8080/",
     "height": 542
    },
    "colab_type": "code",
    "id": "YjHyW_wDprb_",
    "outputId": "5b558f52-8535-4d99-ad79-5e694e139d2b"
   },
   "outputs": [
    {
     "data": {
      "application/vnd.plotly.v1+json": {
       "config": {
        "plotlyServerURL": "https://plot.ly"
       },
       "data": [
        {
         "hoverlabel": {
          "namelength": 0
         },
         "hovertemplate": "Clase=Expuestos<br>Dias=%{x}<br>Casos=%{y}",
         "legendgroup": "Expuestos",
         "line": {
          "color": "#636efa",
          "dash": "solid"
         },
         "mode": "lines",
         "name": "Expuestos",
         "showlegend": true,
         "type": "scatter",
         "x": [
          0,
          1,
          2,
          3,
          4,
          5,
          6,
          7,
          8,
          9,
          10,
          11,
          12,
          13,
          14,
          15,
          16,
          17,
          18,
          19,
          20,
          21,
          22,
          23,
          24,
          25,
          26,
          27,
          28,
          29,
          30,
          31,
          32,
          33,
          34,
          35,
          36,
          37,
          38,
          39,
          40,
          41,
          42,
          43,
          44,
          45,
          46,
          47,
          48,
          49,
          50,
          51,
          52,
          53,
          54,
          55,
          56,
          57,
          58,
          59,
          60,
          61,
          62,
          63,
          64,
          65,
          66,
          67,
          68,
          69,
          70,
          71,
          72,
          73,
          74,
          75,
          76,
          77,
          78,
          79,
          80,
          81,
          82,
          83,
          84,
          85,
          86,
          87,
          88,
          89,
          90
         ],
         "xaxis": "x",
         "y": [
          128,
          158.39787928994082,
          199.51458162234024,
          251.4446455011702,
          316.8950210363653,
          399.3793704719283,
          503.32905278475283,
          634.3274706765599,
          799.4088041508086,
          1007.4340605452102,
          1269.5640717380456,
          1599.8541095555252,
          2016.000889146935,
          2540.280218646766,
          3200.722686471834,
          4032.585806392655,
          5080.194179755801,
          6399.234595058982,
          8059.61045895575,
          10148.979017173977,
          12777.114225715364,
          16081.25538439987,
          20232.612238907535,
          25444.193472334595,
          31980.09464006487,
          40166.30344699558,
          50402.92369777202,
          63177.437949703235,
          79078.15676887355,
          98806.25043134876,
          123183.6168510355,
          153152.19166668874,
          189758.07421109424,
          234111.07889560898,
          287307.38385118236,
          350300.7843266436,
          423708.57439316035,
          507544.45973410347,
          600887.4532344223,
          701526.4364678002,
          805664.9919372823,
          907819.9271801155,
          1001072.8051017055,
          1077795.3953354312,
          1130833.084827581,
          1154911.0938453602,
          1147828.1843296092,
          1110975.6954432393,
          1048951.250785028,
          968424.824302147,
          876715.0141032306,
          780563.1677166593,
          685386.08850973,
          595027.2335759694,
          511863.2825597854,
          437088.0051857832,
          371037.46513805585,
          313480.97901323676,
          263849.34093756287,
          221398.8931643392,
          185321.7076897914,
          154814.98042564993,
          129121.55028649436,
          107550.96933779135,
          89488.03359943912,
          74393.59660765578,
          61800.91210372456,
          51309.62566304828,
          42578.757618308584,
          35319.49674363777,
          29288.279982491713,
          24280.41164849939,
          20124.335893768228,
          16676.591030053656,
          13817.424586123132,
          11447.021077247806,
          9482.281898847803,
          7854.092974291063,
          6505.017167014868,
          5387.352685233125,
          4461.504297320985,
          3694.6202353858275,
          3059.4536587404937,
          2533.4131795829585,
          2097.7720714155626,
          1737.0103304672662,
          1438.2677408366428,
          1190.8895358000445,
          986.0491973241816,
          816.4354464212229,
          675.9926025340661
         ],
         "yaxis": "y"
        },
        {
         "hoverlabel": {
          "namelength": 0
         },
         "hovertemplate": "Clase=Infectados<br>Dias=%{x}<br>Casos=%{y}",
         "legendgroup": "Infectados",
         "line": {
          "color": "#EF553B",
          "dash": "solid"
         },
         "mode": "lines",
         "name": "Infectados",
         "showlegend": true,
         "type": "scatter",
         "x": [
          0,
          1,
          2,
          3,
          4,
          5,
          6,
          7,
          8,
          9,
          10,
          11,
          12,
          13,
          14,
          15,
          16,
          17,
          18,
          19,
          20,
          21,
          22,
          23,
          24,
          25,
          26,
          27,
          28,
          29,
          30,
          31,
          32,
          33,
          34,
          35,
          36,
          37,
          38,
          39,
          40,
          41,
          42,
          43,
          44,
          45,
          46,
          47,
          48,
          49,
          50,
          51,
          52,
          53,
          54,
          55,
          56,
          57,
          58,
          59,
          60,
          61,
          62,
          63,
          64,
          65,
          66,
          67,
          68,
          69,
          70,
          71,
          72,
          73,
          74,
          75,
          76,
          77,
          78,
          79,
          80,
          81,
          82,
          83,
          84,
          85,
          86,
          87,
          88,
          89,
          90
         ],
         "xaxis": "x",
         "y": [
          32,
          41.6,
          52.479575857988166,
          66.14270425346214,
          83.36028122696511,
          105.05914482075562,
          132.40544650476346,
          166.8685338093323,
          210.29976103997814,
          265.0316413501508,
          334.00263278411745,
          420.9141307396679,
          530.4278872809391,
          668.4141214698565,
          842.2631044642815,
          1061.2760895265076,
          1337.1552060417848,
          1684.6164389720525,
          2122.155138497823,
          2672.9996610400613,
          3366.295633954826,
          4238.570662120486,
          5335.536407940217,
          6714.290651751617,
          8445.984020342728,
          10619.01093818434,
          13342.766158491286,
          16751.96781880005,
          21011.471499340674,
          26321.36710344505,
          32921.933637992275,
          41097.69018920325,
          51179.28342793938,
          63541.256556188535,
          78592.84405721608,
          96757.89879884452,
          118439.106264751,
          143961.26801100757,
          173489.5259523245,
          206922.2536230467,
          243766.4141050834,
          283016.2054399981,
          323072.08815602213,
          361750.6050983521,
          396434.3816162623,
          424383.80777364736,
          443174.1226558957,
          451152.6981938697,
          447771.48818558274,
          433675.994249797,
          410522.96198532794,
          380604.48381331016,
          346414.87544998695,
          310284.6554269395,
          274147.7744286636,
          239446.5437262889,
          207140.8729003011,
          177777.9294777617,
          151585.16054152822,
          128562.44845827669,
          108561.0028620062,
          91344.84296896138,
          76635.41756961067,
          64142.018842104204,
          53581.20328861038,
          44688.208364193015,
          37222.82350362767,
          30971.594172558744,
          25747.72221888903,
          21389.612633106233,
          17758.70566528067,
          14737.008829138678,
          12224.586744269216,
          10137.160550888253,
          8403.898481454858,
          6965.434157952056,
          5772.121294425589,
          4782.517026982355,
          3962.07710834939,
          3282.041987577669,
          2718.49153083546,
          2251.546624881927,
          1864.6973595181291,
          1544.2394115071634,
          1278.8023416701735,
          1058.9555851181992,
          876.8798586525529,
          726.0934774936051,
          601.2246459068114,
          497.82216241824204,
          412.1981704933656
         ],
         "yaxis": "y"
        }
       ],
       "layout": {
        "autosize": true,
        "legend": {
         "title": {
          "text": "Clase"
         },
         "tracegroupgap": 0
        },
        "margin": {
         "t": 60
        },
        "template": {
         "data": {
          "bar": [
           {
            "error_x": {
             "color": "#2a3f5f"
            },
            "error_y": {
             "color": "#2a3f5f"
            },
            "marker": {
             "line": {
              "color": "#E5ECF6",
              "width": 0.5
             }
            },
            "type": "bar"
           }
          ],
          "barpolar": [
           {
            "marker": {
             "line": {
              "color": "#E5ECF6",
              "width": 0.5
             }
            },
            "type": "barpolar"
           }
          ],
          "carpet": [
           {
            "aaxis": {
             "endlinecolor": "#2a3f5f",
             "gridcolor": "white",
             "linecolor": "white",
             "minorgridcolor": "white",
             "startlinecolor": "#2a3f5f"
            },
            "baxis": {
             "endlinecolor": "#2a3f5f",
             "gridcolor": "white",
             "linecolor": "white",
             "minorgridcolor": "white",
             "startlinecolor": "#2a3f5f"
            },
            "type": "carpet"
           }
          ],
          "choropleth": [
           {
            "colorbar": {
             "outlinewidth": 0,
             "ticks": ""
            },
            "type": "choropleth"
           }
          ],
          "contour": [
           {
            "colorbar": {
             "outlinewidth": 0,
             "ticks": ""
            },
            "colorscale": [
             [
              0,
              "#0d0887"
             ],
             [
              0.1111111111111111,
              "#46039f"
             ],
             [
              0.2222222222222222,
              "#7201a8"
             ],
             [
              0.3333333333333333,
              "#9c179e"
             ],
             [
              0.4444444444444444,
              "#bd3786"
             ],
             [
              0.5555555555555556,
              "#d8576b"
             ],
             [
              0.6666666666666666,
              "#ed7953"
             ],
             [
              0.7777777777777778,
              "#fb9f3a"
             ],
             [
              0.8888888888888888,
              "#fdca26"
             ],
             [
              1,
              "#f0f921"
             ]
            ],
            "type": "contour"
           }
          ],
          "contourcarpet": [
           {
            "colorbar": {
             "outlinewidth": 0,
             "ticks": ""
            },
            "type": "contourcarpet"
           }
          ],
          "heatmap": [
           {
            "colorbar": {
             "outlinewidth": 0,
             "ticks": ""
            },
            "colorscale": [
             [
              0,
              "#0d0887"
             ],
             [
              0.1111111111111111,
              "#46039f"
             ],
             [
              0.2222222222222222,
              "#7201a8"
             ],
             [
              0.3333333333333333,
              "#9c179e"
             ],
             [
              0.4444444444444444,
              "#bd3786"
             ],
             [
              0.5555555555555556,
              "#d8576b"
             ],
             [
              0.6666666666666666,
              "#ed7953"
             ],
             [
              0.7777777777777778,
              "#fb9f3a"
             ],
             [
              0.8888888888888888,
              "#fdca26"
             ],
             [
              1,
              "#f0f921"
             ]
            ],
            "type": "heatmap"
           }
          ],
          "heatmapgl": [
           {
            "colorbar": {
             "outlinewidth": 0,
             "ticks": ""
            },
            "colorscale": [
             [
              0,
              "#0d0887"
             ],
             [
              0.1111111111111111,
              "#46039f"
             ],
             [
              0.2222222222222222,
              "#7201a8"
             ],
             [
              0.3333333333333333,
              "#9c179e"
             ],
             [
              0.4444444444444444,
              "#bd3786"
             ],
             [
              0.5555555555555556,
              "#d8576b"
             ],
             [
              0.6666666666666666,
              "#ed7953"
             ],
             [
              0.7777777777777778,
              "#fb9f3a"
             ],
             [
              0.8888888888888888,
              "#fdca26"
             ],
             [
              1,
              "#f0f921"
             ]
            ],
            "type": "heatmapgl"
           }
          ],
          "histogram": [
           {
            "marker": {
             "colorbar": {
              "outlinewidth": 0,
              "ticks": ""
             }
            },
            "type": "histogram"
           }
          ],
          "histogram2d": [
           {
            "colorbar": {
             "outlinewidth": 0,
             "ticks": ""
            },
            "colorscale": [
             [
              0,
              "#0d0887"
             ],
             [
              0.1111111111111111,
              "#46039f"
             ],
             [
              0.2222222222222222,
              "#7201a8"
             ],
             [
              0.3333333333333333,
              "#9c179e"
             ],
             [
              0.4444444444444444,
              "#bd3786"
             ],
             [
              0.5555555555555556,
              "#d8576b"
             ],
             [
              0.6666666666666666,
              "#ed7953"
             ],
             [
              0.7777777777777778,
              "#fb9f3a"
             ],
             [
              0.8888888888888888,
              "#fdca26"
             ],
             [
              1,
              "#f0f921"
             ]
            ],
            "type": "histogram2d"
           }
          ],
          "histogram2dcontour": [
           {
            "colorbar": {
             "outlinewidth": 0,
             "ticks": ""
            },
            "colorscale": [
             [
              0,
              "#0d0887"
             ],
             [
              0.1111111111111111,
              "#46039f"
             ],
             [
              0.2222222222222222,
              "#7201a8"
             ],
             [
              0.3333333333333333,
              "#9c179e"
             ],
             [
              0.4444444444444444,
              "#bd3786"
             ],
             [
              0.5555555555555556,
              "#d8576b"
             ],
             [
              0.6666666666666666,
              "#ed7953"
             ],
             [
              0.7777777777777778,
              "#fb9f3a"
             ],
             [
              0.8888888888888888,
              "#fdca26"
             ],
             [
              1,
              "#f0f921"
             ]
            ],
            "type": "histogram2dcontour"
           }
          ],
          "mesh3d": [
           {
            "colorbar": {
             "outlinewidth": 0,
             "ticks": ""
            },
            "type": "mesh3d"
           }
          ],
          "parcoords": [
           {
            "line": {
             "colorbar": {
              "outlinewidth": 0,
              "ticks": ""
             }
            },
            "type": "parcoords"
           }
          ],
          "pie": [
           {
            "automargin": true,
            "type": "pie"
           }
          ],
          "scatter": [
           {
            "marker": {
             "colorbar": {
              "outlinewidth": 0,
              "ticks": ""
             }
            },
            "type": "scatter"
           }
          ],
          "scatter3d": [
           {
            "line": {
             "colorbar": {
              "outlinewidth": 0,
              "ticks": ""
             }
            },
            "marker": {
             "colorbar": {
              "outlinewidth": 0,
              "ticks": ""
             }
            },
            "type": "scatter3d"
           }
          ],
          "scattercarpet": [
           {
            "marker": {
             "colorbar": {
              "outlinewidth": 0,
              "ticks": ""
             }
            },
            "type": "scattercarpet"
           }
          ],
          "scattergeo": [
           {
            "marker": {
             "colorbar": {
              "outlinewidth": 0,
              "ticks": ""
             }
            },
            "type": "scattergeo"
           }
          ],
          "scattergl": [
           {
            "marker": {
             "colorbar": {
              "outlinewidth": 0,
              "ticks": ""
             }
            },
            "type": "scattergl"
           }
          ],
          "scattermapbox": [
           {
            "marker": {
             "colorbar": {
              "outlinewidth": 0,
              "ticks": ""
             }
            },
            "type": "scattermapbox"
           }
          ],
          "scatterpolar": [
           {
            "marker": {
             "colorbar": {
              "outlinewidth": 0,
              "ticks": ""
             }
            },
            "type": "scatterpolar"
           }
          ],
          "scatterpolargl": [
           {
            "marker": {
             "colorbar": {
              "outlinewidth": 0,
              "ticks": ""
             }
            },
            "type": "scatterpolargl"
           }
          ],
          "scatterternary": [
           {
            "marker": {
             "colorbar": {
              "outlinewidth": 0,
              "ticks": ""
             }
            },
            "type": "scatterternary"
           }
          ],
          "surface": [
           {
            "colorbar": {
             "outlinewidth": 0,
             "ticks": ""
            },
            "colorscale": [
             [
              0,
              "#0d0887"
             ],
             [
              0.1111111111111111,
              "#46039f"
             ],
             [
              0.2222222222222222,
              "#7201a8"
             ],
             [
              0.3333333333333333,
              "#9c179e"
             ],
             [
              0.4444444444444444,
              "#bd3786"
             ],
             [
              0.5555555555555556,
              "#d8576b"
             ],
             [
              0.6666666666666666,
              "#ed7953"
             ],
             [
              0.7777777777777778,
              "#fb9f3a"
             ],
             [
              0.8888888888888888,
              "#fdca26"
             ],
             [
              1,
              "#f0f921"
             ]
            ],
            "type": "surface"
           }
          ],
          "table": [
           {
            "cells": {
             "fill": {
              "color": "#EBF0F8"
             },
             "line": {
              "color": "white"
             }
            },
            "header": {
             "fill": {
              "color": "#C8D4E3"
             },
             "line": {
              "color": "white"
             }
            },
            "type": "table"
           }
          ]
         },
         "layout": {
          "annotationdefaults": {
           "arrowcolor": "#2a3f5f",
           "arrowhead": 0,
           "arrowwidth": 1
          },
          "coloraxis": {
           "colorbar": {
            "outlinewidth": 0,
            "ticks": ""
           }
          },
          "colorscale": {
           "diverging": [
            [
             0,
             "#8e0152"
            ],
            [
             0.1,
             "#c51b7d"
            ],
            [
             0.2,
             "#de77ae"
            ],
            [
             0.3,
             "#f1b6da"
            ],
            [
             0.4,
             "#fde0ef"
            ],
            [
             0.5,
             "#f7f7f7"
            ],
            [
             0.6,
             "#e6f5d0"
            ],
            [
             0.7,
             "#b8e186"
            ],
            [
             0.8,
             "#7fbc41"
            ],
            [
             0.9,
             "#4d9221"
            ],
            [
             1,
             "#276419"
            ]
           ],
           "sequential": [
            [
             0,
             "#0d0887"
            ],
            [
             0.1111111111111111,
             "#46039f"
            ],
            [
             0.2222222222222222,
             "#7201a8"
            ],
            [
             0.3333333333333333,
             "#9c179e"
            ],
            [
             0.4444444444444444,
             "#bd3786"
            ],
            [
             0.5555555555555556,
             "#d8576b"
            ],
            [
             0.6666666666666666,
             "#ed7953"
            ],
            [
             0.7777777777777778,
             "#fb9f3a"
            ],
            [
             0.8888888888888888,
             "#fdca26"
            ],
            [
             1,
             "#f0f921"
            ]
           ],
           "sequentialminus": [
            [
             0,
             "#0d0887"
            ],
            [
             0.1111111111111111,
             "#46039f"
            ],
            [
             0.2222222222222222,
             "#7201a8"
            ],
            [
             0.3333333333333333,
             "#9c179e"
            ],
            [
             0.4444444444444444,
             "#bd3786"
            ],
            [
             0.5555555555555556,
             "#d8576b"
            ],
            [
             0.6666666666666666,
             "#ed7953"
            ],
            [
             0.7777777777777778,
             "#fb9f3a"
            ],
            [
             0.8888888888888888,
             "#fdca26"
            ],
            [
             1,
             "#f0f921"
            ]
           ]
          },
          "colorway": [
           "#636efa",
           "#EF553B",
           "#00cc96",
           "#ab63fa",
           "#FFA15A",
           "#19d3f3",
           "#FF6692",
           "#B6E880",
           "#FF97FF",
           "#FECB52"
          ],
          "font": {
           "color": "#2a3f5f"
          },
          "geo": {
           "bgcolor": "white",
           "lakecolor": "white",
           "landcolor": "#E5ECF6",
           "showlakes": true,
           "showland": true,
           "subunitcolor": "white"
          },
          "hoverlabel": {
           "align": "left"
          },
          "hovermode": "closest",
          "mapbox": {
           "style": "light"
          },
          "paper_bgcolor": "white",
          "plot_bgcolor": "#E5ECF6",
          "polar": {
           "angularaxis": {
            "gridcolor": "white",
            "linecolor": "white",
            "ticks": ""
           },
           "bgcolor": "#E5ECF6",
           "radialaxis": {
            "gridcolor": "white",
            "linecolor": "white",
            "ticks": ""
           }
          },
          "scene": {
           "xaxis": {
            "backgroundcolor": "#E5ECF6",
            "gridcolor": "white",
            "gridwidth": 2,
            "linecolor": "white",
            "showbackground": true,
            "ticks": "",
            "zerolinecolor": "white"
           },
           "yaxis": {
            "backgroundcolor": "#E5ECF6",
            "gridcolor": "white",
            "gridwidth": 2,
            "linecolor": "white",
            "showbackground": true,
            "ticks": "",
            "zerolinecolor": "white"
           },
           "zaxis": {
            "backgroundcolor": "#E5ECF6",
            "gridcolor": "white",
            "gridwidth": 2,
            "linecolor": "white",
            "showbackground": true,
            "ticks": "",
            "zerolinecolor": "white"
           }
          },
          "shapedefaults": {
           "line": {
            "color": "#2a3f5f"
           }
          },
          "ternary": {
           "aaxis": {
            "gridcolor": "white",
            "linecolor": "white",
            "ticks": ""
           },
           "baxis": {
            "gridcolor": "white",
            "linecolor": "white",
            "ticks": ""
           },
           "bgcolor": "#E5ECF6",
           "caxis": {
            "gridcolor": "white",
            "linecolor": "white",
            "ticks": ""
           }
          },
          "title": {
           "x": 0.05
          },
          "xaxis": {
           "automargin": true,
           "gridcolor": "white",
           "linecolor": "white",
           "ticks": "",
           "title": {
            "standoff": 15
           },
           "zerolinecolor": "white",
           "zerolinewidth": 2
          },
          "yaxis": {
           "automargin": true,
           "gridcolor": "white",
           "linecolor": "white",
           "ticks": "",
           "title": {
            "standoff": 15
           },
           "zerolinecolor": "white",
           "zerolinewidth": 2
          }
         }
        },
        "title": {
         "text": "Predicción del modelo SEIR de la evolución de COVID-19 en Monterrey, México"
        },
        "xaxis": {
         "anchor": "y",
         "autorange": true,
         "domain": [
          0,
          1
         ],
         "range": [
          0,
          90
         ],
         "title": {
          "text": "Días"
         },
         "type": "linear"
        },
        "yaxis": {
         "anchor": "x",
         "autorange": true,
         "domain": [
          0,
          1
         ],
         "range": [
          -64127.949658075566,
          1219071.0435034358
         ],
         "title": {
          "text": "Casos Totales"
         },
         "type": "linear"
        }
       }
      },
      "image/png": "[encoded data removed]",
      "text/html": [
       "<div>\n",
       "        \n",
       "        \n",
       "            <div id=\"1b2ee201-51e2-48a5-9d7f-781bdbfdc0e0\" class=\"plotly-graph-div\" style=\"height:525px; width:100%;\"></div>\n",
       "            <script type=\"text/javascript\">\n",
       "                require([\"plotly\"], function(Plotly) {\n",
       "                    window.PLOTLYENV=window.PLOTLYENV || {};\n",
       "                    \n",
       "                if (document.getElementById(\"1b2ee201-51e2-48a5-9d7f-781bdbfdc0e0\")) {\n",
       "                    Plotly.newPlot(\n",
       "                        '1b2ee201-51e2-48a5-9d7f-781bdbfdc0e0',\n",
       "                        [{\"hoverlabel\": {\"namelength\": 0}, \"hovertemplate\": \"Clase=Expuestos<br>Dias=%{x}<br>Casos=%{y}\", \"legendgroup\": \"Expuestos\", \"line\": {\"color\": \"#636efa\", \"dash\": \"solid\"}, \"mode\": \"lines\", \"name\": \"Expuestos\", \"showlegend\": true, \"type\": \"scatter\", \"x\": [0, 1, 2, 3, 4, 5, 6, 7, 8, 9, 10, 11, 12, 13, 14, 15, 16, 17, 18, 19, 20, 21, 22, 23, 24, 25, 26, 27, 28, 29, 30, 31, 32, 33, 34, 35, 36, 37, 38, 39, 40, 41, 42, 43, 44, 45, 46, 47, 48, 49, 50, 51, 52, 53, 54, 55, 56, 57, 58, 59, 60, 61, 62, 63, 64, 65, 66, 67, 68, 69, 70, 71, 72, 73, 74, 75, 76, 77, 78, 79, 80, 81, 82, 83, 84, 85, 86, 87, 88, 89, 90], \"xaxis\": \"x\", \"y\": [128.0, 158.39787928994082, 199.51458162234024, 251.4446455011702, 316.8950210363653, 399.3793704719283, 503.32905278475283, 634.3274706765599, 799.4088041508086, 1007.4340605452102, 1269.5640717380456, 1599.8541095555252, 2016.000889146935, 2540.280218646766, 3200.722686471834, 4032.585806392655, 5080.194179755801, 6399.234595058982, 8059.61045895575, 10148.979017173977, 12777.114225715364, 16081.25538439987, 20232.612238907535, 25444.193472334595, 31980.09464006487, 40166.30344699558, 50402.92369777202, 63177.437949703235, 79078.15676887355, 98806.25043134876, 123183.6168510355, 153152.19166668874, 189758.07421109424, 234111.07889560898, 287307.38385118236, 350300.7843266436, 423708.57439316035, 507544.45973410347, 600887.4532344223, 701526.4364678002, 805664.9919372823, 907819.9271801155, 1001072.8051017055, 1077795.3953354312, 1130833.084827581, 1154911.0938453602, 1147828.1843296092, 1110975.6954432393, 1048951.250785028, 968424.824302147, 876715.0141032306, 780563.1677166593, 685386.08850973, 595027.2335759694, 511863.2825597854, 437088.0051857832, 371037.46513805585, 313480.97901323676, 263849.34093756287, 221398.8931643392, 185321.7076897914, 154814.98042564993, 129121.55028649436, 107550.96933779135, 89488.03359943912, 74393.59660765578, 61800.91210372456, 51309.62566304828, 42578.757618308584, 35319.49674363777, 29288.279982491713, 24280.41164849939, 20124.335893768228, 16676.591030053656, 13817.424586123132, 11447.021077247806, 9482.281898847803, 7854.092974291063, 6505.017167014868, 5387.352685233125, 4461.504297320985, 3694.6202353858275, 3059.4536587404937, 2533.4131795829585, 2097.7720714155626, 1737.0103304672662, 1438.2677408366428, 1190.8895358000445, 986.0491973241816, 816.4354464212229, 675.9926025340661], \"yaxis\": \"y\"}, {\"hoverlabel\": {\"namelength\": 0}, \"hovertemplate\": \"Clase=Infectados<br>Dias=%{x}<br>Casos=%{y}\", \"legendgroup\": \"Infectados\", \"line\": {\"color\": \"#EF553B\", \"dash\": \"solid\"}, \"mode\": \"lines\", \"name\": \"Infectados\", \"showlegend\": true, \"type\": \"scatter\", \"x\": [0, 1, 2, 3, 4, 5, 6, 7, 8, 9, 10, 11, 12, 13, 14, 15, 16, 17, 18, 19, 20, 21, 22, 23, 24, 25, 26, 27, 28, 29, 30, 31, 32, 33, 34, 35, 36, 37, 38, 39, 40, 41, 42, 43, 44, 45, 46, 47, 48, 49, 50, 51, 52, 53, 54, 55, 56, 57, 58, 59, 60, 61, 62, 63, 64, 65, 66, 67, 68, 69, 70, 71, 72, 73, 74, 75, 76, 77, 78, 79, 80, 81, 82, 83, 84, 85, 86, 87, 88, 89, 90], \"xaxis\": \"x\", \"y\": [32.0, 41.6, 52.479575857988166, 66.14270425346214, 83.36028122696511, 105.05914482075562, 132.40544650476346, 166.8685338093323, 210.29976103997814, 265.0316413501508, 334.00263278411745, 420.9141307396679, 530.4278872809391, 668.4141214698565, 842.2631044642815, 1061.2760895265076, 1337.1552060417848, 1684.6164389720525, 2122.155138497823, 2672.9996610400613, 3366.295633954826, 4238.570662120486, 5335.536407940217, 6714.290651751617, 8445.984020342728, 10619.01093818434, 13342.766158491286, 16751.96781880005, 21011.471499340674, 26321.36710344505, 32921.933637992275, 41097.69018920325, 51179.28342793938, 63541.256556188535, 78592.84405721608, 96757.89879884452, 118439.106264751, 143961.26801100757, 173489.5259523245, 206922.2536230467, 243766.4141050834, 283016.2054399981, 323072.08815602213, 361750.6050983521, 396434.3816162623, 424383.80777364736, 443174.1226558957, 451152.6981938697, 447771.48818558274, 433675.994249797, 410522.96198532794, 380604.48381331016, 346414.87544998695, 310284.6554269395, 274147.7744286636, 239446.5437262889, 207140.8729003011, 177777.9294777617, 151585.16054152822, 128562.44845827669, 108561.0028620062, 91344.84296896138, 76635.41756961067, 64142.018842104204, 53581.20328861038, 44688.208364193015, 37222.82350362767, 30971.594172558744, 25747.72221888903, 21389.612633106233, 17758.70566528067, 14737.008829138678, 12224.586744269216, 10137.160550888253, 8403.898481454858, 6965.434157952056, 5772.121294425589, 4782.517026982355, 3962.07710834939, 3282.041987577669, 2718.49153083546, 2251.546624881927, 1864.6973595181291, 1544.2394115071634, 1278.8023416701735, 1058.9555851181992, 876.8798586525529, 726.0934774936051, 601.2246459068114, 497.82216241824204, 412.1981704933656], \"yaxis\": \"y\"}],\n",
       "                        {\"legend\": {\"title\": {\"text\": \"Clase\"}, \"tracegroupgap\": 0}, \"margin\": {\"t\": 60}, \"template\": {\"data\": {\"bar\": [{\"error_x\": {\"color\": \"#2a3f5f\"}, \"error_y\": {\"color\": \"#2a3f5f\"}, \"marker\": {\"line\": {\"color\": \"#E5ECF6\", \"width\": 0.5}}, \"type\": \"bar\"}], \"barpolar\": [{\"marker\": {\"line\": {\"color\": \"#E5ECF6\", \"width\": 0.5}}, \"type\": \"barpolar\"}], \"carpet\": [{\"aaxis\": {\"endlinecolor\": \"#2a3f5f\", \"gridcolor\": \"white\", \"linecolor\": \"white\", \"minorgridcolor\": \"white\", \"startlinecolor\": \"#2a3f5f\"}, \"baxis\": {\"endlinecolor\": \"#2a3f5f\", \"gridcolor\": \"white\", \"linecolor\": \"white\", \"minorgridcolor\": \"white\", \"startlinecolor\": \"#2a3f5f\"}, \"type\": \"carpet\"}], \"choropleth\": [{\"colorbar\": {\"outlinewidth\": 0, \"ticks\": \"\"}, \"type\": \"choropleth\"}], \"contour\": [{\"colorbar\": {\"outlinewidth\": 0, \"ticks\": \"\"}, \"colorscale\": [[0.0, \"#0d0887\"], [0.1111111111111111, \"#46039f\"], [0.2222222222222222, \"#7201a8\"], [0.3333333333333333, \"#9c179e\"], [0.4444444444444444, \"#bd3786\"], [0.5555555555555556, \"#d8576b\"], [0.6666666666666666, \"#ed7953\"], [0.7777777777777778, \"#fb9f3a\"], [0.8888888888888888, \"#fdca26\"], [1.0, \"#f0f921\"]], \"type\": \"contour\"}], \"contourcarpet\": [{\"colorbar\": {\"outlinewidth\": 0, \"ticks\": \"\"}, \"type\": \"contourcarpet\"}], \"heatmap\": [{\"colorbar\": {\"outlinewidth\": 0, \"ticks\": \"\"}, \"colorscale\": [[0.0, \"#0d0887\"], [0.1111111111111111, \"#46039f\"], [0.2222222222222222, \"#7201a8\"], [0.3333333333333333, \"#9c179e\"], [0.4444444444444444, \"#bd3786\"], [0.5555555555555556, \"#d8576b\"], [0.6666666666666666, \"#ed7953\"], [0.7777777777777778, \"#fb9f3a\"], [0.8888888888888888, \"#fdca26\"], [1.0, \"#f0f921\"]], \"type\": \"heatmap\"}], \"heatmapgl\": [{\"colorbar\": {\"outlinewidth\": 0, \"ticks\": \"\"}, \"colorscale\": [[0.0, \"#0d0887\"], [0.1111111111111111, \"#46039f\"], [0.2222222222222222, \"#7201a8\"], [0.3333333333333333, \"#9c179e\"], [0.4444444444444444, \"#bd3786\"], [0.5555555555555556, \"#d8576b\"], [0.6666666666666666, \"#ed7953\"], [0.7777777777777778, \"#fb9f3a\"], [0.8888888888888888, \"#fdca26\"], [1.0, \"#f0f921\"]], \"type\": \"heatmapgl\"}], \"histogram\": [{\"marker\": {\"colorbar\": {\"outlinewidth\": 0, \"ticks\": \"\"}}, \"type\": \"histogram\"}], \"histogram2d\": [{\"colorbar\": {\"outlinewidth\": 0, \"ticks\": \"\"}, \"colorscale\": [[0.0, \"#0d0887\"], [0.1111111111111111, \"#46039f\"], [0.2222222222222222, \"#7201a8\"], [0.3333333333333333, \"#9c179e\"], [0.4444444444444444, \"#bd3786\"], [0.5555555555555556, \"#d8576b\"], [0.6666666666666666, \"#ed7953\"], [0.7777777777777778, \"#fb9f3a\"], [0.8888888888888888, \"#fdca26\"], [1.0, \"#f0f921\"]], \"type\": \"histogram2d\"}], \"histogram2dcontour\": [{\"colorbar\": {\"outlinewidth\": 0, \"ticks\": \"\"}, \"colorscale\": [[0.0, \"#0d0887\"], [0.1111111111111111, \"#46039f\"], [0.2222222222222222, \"#7201a8\"], [0.3333333333333333, \"#9c179e\"], [0.4444444444444444, \"#bd3786\"], [0.5555555555555556, \"#d8576b\"], [0.6666666666666666, \"#ed7953\"], [0.7777777777777778, \"#fb9f3a\"], [0.8888888888888888, \"#fdca26\"], [1.0, \"#f0f921\"]], \"type\": \"histogram2dcontour\"}], \"mesh3d\": [{\"colorbar\": {\"outlinewidth\": 0, \"ticks\": \"\"}, \"type\": \"mesh3d\"}], \"parcoords\": [{\"line\": {\"colorbar\": {\"outlinewidth\": 0, \"ticks\": \"\"}}, \"type\": \"parcoords\"}], \"pie\": [{\"automargin\": true, \"type\": \"pie\"}], \"scatter\": [{\"marker\": {\"colorbar\": {\"outlinewidth\": 0, \"ticks\": \"\"}}, \"type\": \"scatter\"}], \"scatter3d\": [{\"line\": {\"colorbar\": {\"outlinewidth\": 0, \"ticks\": \"\"}}, \"marker\": {\"colorbar\": {\"outlinewidth\": 0, \"ticks\": \"\"}}, \"type\": \"scatter3d\"}], \"scattercarpet\": [{\"marker\": {\"colorbar\": {\"outlinewidth\": 0, \"ticks\": \"\"}}, \"type\": \"scattercarpet\"}], \"scattergeo\": [{\"marker\": {\"colorbar\": {\"outlinewidth\": 0, \"ticks\": \"\"}}, \"type\": \"scattergeo\"}], \"scattergl\": [{\"marker\": {\"colorbar\": {\"outlinewidth\": 0, \"ticks\": \"\"}}, \"type\": \"scattergl\"}], \"scattermapbox\": [{\"marker\": {\"colorbar\": {\"outlinewidth\": 0, \"ticks\": \"\"}}, \"type\": \"scattermapbox\"}], \"scatterpolar\": [{\"marker\": {\"colorbar\": {\"outlinewidth\": 0, \"ticks\": \"\"}}, \"type\": \"scatterpolar\"}], \"scatterpolargl\": [{\"marker\": {\"colorbar\": {\"outlinewidth\": 0, \"ticks\": \"\"}}, \"type\": \"scatterpolargl\"}], \"scatterternary\": [{\"marker\": {\"colorbar\": {\"outlinewidth\": 0, \"ticks\": \"\"}}, \"type\": \"scatterternary\"}], \"surface\": [{\"colorbar\": {\"outlinewidth\": 0, \"ticks\": \"\"}, \"colorscale\": [[0.0, \"#0d0887\"], [0.1111111111111111, \"#46039f\"], [0.2222222222222222, \"#7201a8\"], [0.3333333333333333, \"#9c179e\"], [0.4444444444444444, \"#bd3786\"], [0.5555555555555556, \"#d8576b\"], [0.6666666666666666, \"#ed7953\"], [0.7777777777777778, \"#fb9f3a\"], [0.8888888888888888, \"#fdca26\"], [1.0, \"#f0f921\"]], \"type\": \"surface\"}], \"table\": [{\"cells\": {\"fill\": {\"color\": \"#EBF0F8\"}, \"line\": {\"color\": \"white\"}}, \"header\": {\"fill\": {\"color\": \"#C8D4E3\"}, \"line\": {\"color\": \"white\"}}, \"type\": \"table\"}]}, \"layout\": {\"annotationdefaults\": {\"arrowcolor\": \"#2a3f5f\", \"arrowhead\": 0, \"arrowwidth\": 1}, \"coloraxis\": {\"colorbar\": {\"outlinewidth\": 0, \"ticks\": \"\"}}, \"colorscale\": {\"diverging\": [[0, \"#8e0152\"], [0.1, \"#c51b7d\"], [0.2, \"#de77ae\"], [0.3, \"#f1b6da\"], [0.4, \"#fde0ef\"], [0.5, \"#f7f7f7\"], [0.6, \"#e6f5d0\"], [0.7, \"#b8e186\"], [0.8, \"#7fbc41\"], [0.9, \"#4d9221\"], [1, \"#276419\"]], \"sequential\": [[0.0, \"#0d0887\"], [0.1111111111111111, \"#46039f\"], [0.2222222222222222, \"#7201a8\"], [0.3333333333333333, \"#9c179e\"], [0.4444444444444444, \"#bd3786\"], [0.5555555555555556, \"#d8576b\"], [0.6666666666666666, \"#ed7953\"], [0.7777777777777778, \"#fb9f3a\"], [0.8888888888888888, \"#fdca26\"], [1.0, \"#f0f921\"]], \"sequentialminus\": [[0.0, \"#0d0887\"], [0.1111111111111111, \"#46039f\"], [0.2222222222222222, \"#7201a8\"], [0.3333333333333333, \"#9c179e\"], [0.4444444444444444, \"#bd3786\"], [0.5555555555555556, \"#d8576b\"], [0.6666666666666666, \"#ed7953\"], [0.7777777777777778, \"#fb9f3a\"], [0.8888888888888888, \"#fdca26\"], [1.0, \"#f0f921\"]]}, \"colorway\": [\"#636efa\", \"#EF553B\", \"#00cc96\", \"#ab63fa\", \"#FFA15A\", \"#19d3f3\", \"#FF6692\", \"#B6E880\", \"#FF97FF\", \"#FECB52\"], \"font\": {\"color\": \"#2a3f5f\"}, \"geo\": {\"bgcolor\": \"white\", \"lakecolor\": \"white\", \"landcolor\": \"#E5ECF6\", \"showlakes\": true, \"showland\": true, \"subunitcolor\": \"white\"}, \"hoverlabel\": {\"align\": \"left\"}, \"hovermode\": \"closest\", \"mapbox\": {\"style\": \"light\"}, \"paper_bgcolor\": \"white\", \"plot_bgcolor\": \"#E5ECF6\", \"polar\": {\"angularaxis\": {\"gridcolor\": \"white\", \"linecolor\": \"white\", \"ticks\": \"\"}, \"bgcolor\": \"#E5ECF6\", \"radialaxis\": {\"gridcolor\": \"white\", \"linecolor\": \"white\", \"ticks\": \"\"}}, \"scene\": {\"xaxis\": {\"backgroundcolor\": \"#E5ECF6\", \"gridcolor\": \"white\", \"gridwidth\": 2, \"linecolor\": \"white\", \"showbackground\": true, \"ticks\": \"\", \"zerolinecolor\": \"white\"}, \"yaxis\": {\"backgroundcolor\": \"#E5ECF6\", \"gridcolor\": \"white\", \"gridwidth\": 2, \"linecolor\": \"white\", \"showbackground\": true, \"ticks\": \"\", \"zerolinecolor\": \"white\"}, \"zaxis\": {\"backgroundcolor\": \"#E5ECF6\", \"gridcolor\": \"white\", \"gridwidth\": 2, \"linecolor\": \"white\", \"showbackground\": true, \"ticks\": \"\", \"zerolinecolor\": \"white\"}}, \"shapedefaults\": {\"line\": {\"color\": \"#2a3f5f\"}}, \"ternary\": {\"aaxis\": {\"gridcolor\": \"white\", \"linecolor\": \"white\", \"ticks\": \"\"}, \"baxis\": {\"gridcolor\": \"white\", \"linecolor\": \"white\", \"ticks\": \"\"}, \"bgcolor\": \"#E5ECF6\", \"caxis\": {\"gridcolor\": \"white\", \"linecolor\": \"white\", \"ticks\": \"\"}}, \"title\": {\"x\": 0.05}, \"xaxis\": {\"automargin\": true, \"gridcolor\": \"white\", \"linecolor\": \"white\", \"ticks\": \"\", \"title\": {\"standoff\": 15}, \"zerolinecolor\": \"white\", \"zerolinewidth\": 2}, \"yaxis\": {\"automargin\": true, \"gridcolor\": \"white\", \"linecolor\": \"white\", \"ticks\": \"\", \"title\": {\"standoff\": 15}, \"zerolinecolor\": \"white\", \"zerolinewidth\": 2}}}, \"title\": {\"text\": \"Predicci\\u00f3n del modelo SEIR de la evoluci\\u00f3n de COVID-19 en Monterrey, M\\u00e9xico\"}, \"xaxis\": {\"anchor\": \"y\", \"domain\": [0.0, 1.0], \"title\": {\"text\": \"D\\u00edas\"}}, \"yaxis\": {\"anchor\": \"x\", \"domain\": [0.0, 1.0], \"title\": {\"text\": \"Casos Totales\"}}},\n",
       "                        {\"responsive\": true}\n",
       "                    ).then(function(){\n",
       "                            \n",
       "var gd = document.getElementById('1b2ee201-51e2-48a5-9d7f-781bdbfdc0e0');\n",
       "var x = new MutationObserver(function (mutations, observer) {{\n",
       "        var display = window.getComputedStyle(gd).display;\n",
       "        if (!display || display === 'none') {{\n",
       "            console.log([gd, 'removed!']);\n",
       "            Plotly.purge(gd);\n",
       "            observer.disconnect();\n",
       "        }}\n",
       "}});\n",
       "\n",
       "// Listen for the removal of the full notebook cells\n",
       "var notebookContainer = gd.closest('#notebook-container');\n",
       "if (notebookContainer) {{\n",
       "    x.observe(notebookContainer, {childList: true});\n",
       "}}\n",
       "\n",
       "// Listen for the clearing of the current output cell\n",
       "var outputEl = gd.closest('.output');\n",
       "if (outputEl) {{\n",
       "    x.observe(outputEl, {childList: true});\n",
       "}}\n",
       "\n",
       "                        })\n",
       "                };\n",
       "                });\n",
       "            </script>\n",
       "        </div>"
      ]
     },
     "metadata": {},
     "output_type": "display_data"
    }
   ],
   "source": [
    "#@title Esta Celda grafica los resultados { display-mode: \"form\" }\n",
    "\n",
    "E_a = np.array(E)*ZMM_Population\n",
    "I_a = np.array(I)*ZMM_Population\n",
    "Clase = np.array([\"Expuestos\"]*np.array(E).shape[0] + [\"Infectados\"]*np.array(E).shape[0])\n",
    "Dias = np.concatenate([np.arange(0,91,1),np.arange(0,91,1)])\n",
    "SEIR_df = pd.DataFrame({\n",
    "    \"Casos\": np.concatenate([E_a,I_a]),\n",
    "    \"Clase\": Clase,\n",
    "    \"Dias\" : Dias\n",
    "})\n",
    "\n",
    "fig = px.line(SEIR_df, x=\"Dias\", y=\"Casos\", color='Clase')\n",
    "\n",
    "fig.update_layout(\n",
    "    title=\"Predicción del modelo SEIR de la evolución de COVID-19 en Monterrey, México\",\n",
    "    xaxis_title=\"Días\",\n",
    "    yaxis_title=\"Casos Totales\",\n",
    "    )\n",
    "\n",
    "fig.show()"
   ]
  },
  {
   "cell_type": "markdown",
   "metadata": {},
   "source": [
    "## Caracteristicas de la poblacion Maxima"
   ]
  },
  {
   "cell_type": "markdown",
   "metadata": {},
   "source": [
    "70% contagiadas, presentan sintomas\n",
    "\n",
    "10% top, son de riesgo\n",
    "\n",
    "15% de la poblacion, puede tener riesgo de Morir"
   ]
  },
  {
   "cell_type": "code",
   "execution_count": null,
   "metadata": {},
   "outputs": [],
   "source": [
    "# Modelo de Italia\n",
    "100%, 80% enfermar\n",
    "80%, 10% graves\n",
    "80%, 5% muy graves"
   ]
  },
  {
   "cell_type": "code",
   "execution_count": null,
   "metadata": {},
   "outputs": [],
   "source": [
    "# Modelo de China\n",
    "100, 90% enfermar\n",
    "100, 10% grave\n",
    "10%, 5% manejo ventilatorio"
   ]
  },
  {
   "cell_type": "code",
   "execution_count": 29,
   "metadata": {},
   "outputs": [
    {
     "name": "stdout",
     "output_type": "stream",
     "text": [
      "Con sintomas: 360000.0\n",
      "Con graves: 36000.0\n",
      "Con muy graves: 18000.0\n"
     ]
    }
   ],
   "source": [
    "# Dado el modelo Italiano\n",
    "Pmax = 450000\n",
    "Penfermar = Pmax*0.8\n",
    "print('Con sintomas: '+str(Penfermar))\n",
    "Pgraves = Penfermar*0.1\n",
    "print('Con graves: '+str(Pgraves))\n",
    "Pmuygraves = Penfermar*0.05\n",
    "print('Con muy graves: '+str(Pmuygraves))\n",
    "\n"
   ]
  },
  {
   "cell_type": "code",
   "execution_count": 31,
   "metadata": {},
   "outputs": [
    {
     "name": "stdout",
     "output_type": "stream",
     "text": [
      "Con sintomas: 405000\n",
      "Con grave: 45000\n",
      "Con manejo ventilatorio: 22500\n"
     ]
    }
   ],
   "source": [
    "Penfermar = int(Pmax*0.9)\n",
    "print('Con sintomas: '+str(Penfermar))\n",
    "Pgrave = int(Pmax*0.1)\n",
    "print('Con grave: '+str(Pgrave))\n",
    "Pventiladores = int(Pmax*0.05)\n",
    "print('Con manejo ventilatorio: '+str(Pventiladores))\n",
    "\n"
   ]
  },
  {
   "cell_type": "markdown",
   "metadata": {
    "colab_type": "text",
    "id": "8YbPCvr3zRZq"
   },
   "source": [
    "El dia 0 es hoy 22/03/2020, si se quiere correr el análisis después habrá que cambiar las condiciones inciales (actualizar en número de infectados reportados)\n",
    "\n",
    "# ¿Cómo saber cuando actuar?\n",
    "\n",
    "Para tratar de responder esto, ajustaré una recta a los primeros 21 días, después, buscaré el punto de inflexión de los residuos de esa linea (qué sería igual a buscar el día en que el comportamiento lineal se perdío)."
   ]
  },
  {
   "cell_type": "code",
   "execution_count": 20,
   "metadata": {
    "cellView": "form",
    "colab": {
     "base_uri": "https://localhost:8080/",
     "height": 446
    },
    "colab_type": "code",
    "id": "Sj7bwpryso52",
    "outputId": "70e48a46-bea5-4d3c-f7b1-2c71f3b42f34"
   },
   "outputs": [
    {
     "name": "stdout",
     "output_type": "stream",
     "text": [
      "                            OLS Regression Results                            \n",
      "==============================================================================\n",
      "Dep. Variable:                      y   R-squared:                       0.794\n",
      "Model:                            OLS   Adj. R-squared:                  0.784\n",
      "Method:                 Least Squares   F-statistic:                     77.22\n",
      "Date:                Sun, 22 Mar 2020   Prob (F-statistic):           2.65e-08\n",
      "Time:                        19:02:42   Log-Likelihood:                -162.23\n",
      "No. Observations:                  21   AIC:                             326.5\n",
      "Df Residuals:                      20   BIC:                             327.5\n",
      "Df Model:                           1                                         \n",
      "Covariance Type:            nonrobust                                         \n",
      "==============================================================================\n",
      "                 coef    std err          t      P>|t|      [0.025      0.975]\n",
      "------------------------------------------------------------------------------\n",
      "x1            92.0955     10.480      8.788      0.000      70.234     113.957\n",
      "==============================================================================\n",
      "Omnibus:                       18.114   Durbin-Watson:                   0.136\n",
      "Prob(Omnibus):                  0.000   Jarque-Bera (JB):               19.140\n",
      "Skew:                           1.841   Prob(JB):                     6.98e-05\n",
      "Kurtosis:                       5.883   Cond. No.                         1.00\n",
      "==============================================================================\n",
      "\n",
      "Warnings:\n",
      "[1] Standard Errors assume that the covariance matrix of the errors is correctly specified.\n"
     ]
    }
   ],
   "source": [
    "#@title Ajuste de la linea\n",
    "\n",
    "import statsmodels.api as sm\n",
    "\n",
    "X = SEIR_df[\"Dias\"][:21].values\n",
    "y = SEIR_df[\"Casos\"][SEIR_df[\"Clase\"]==\"Infectados\"][:21].values\n",
    "\n",
    "model = sm.OLS(y,X)\n",
    "results = model.fit()\n",
    "print(results.summary())"
   ]
  },
  {
   "cell_type": "code",
   "execution_count": 21,
   "metadata": {
    "cellView": "form",
    "colab": {
     "base_uri": "https://localhost:8080/",
     "height": 379
    },
    "colab_type": "code",
    "id": "-Y2ERC410uJX",
    "outputId": "3d4163d5-1708-4e4d-853b-ec6f731a4a29"
   },
   "outputs": [
    {
     "data": {
      "text/plain": [
       "Text(0.5, 1.0, 'El punto de inflexión es al día: 11 ')"
      ]
     },
     "execution_count": 21,
     "metadata": {},
     "output_type": "execute_result"
    },
    {
     "data": {
      "image/png": "[encoded data removed]",
      "text/plain": [
       "<Figure size 648x360 with 1 Axes>"
      ]
     },
     "metadata": {
      "needs_background": "light"
     },
     "output_type": "display_data"
    }
   ],
   "source": [
    "#@title ¿En donde empieza a equivocarse más la recta?\n",
    "\n",
    "plt.figure(figsize=(9,5))\n",
    "plt.plot(results.resid, alpha = 0.5)\n",
    "plt.scatter(np.argmin(results.resid),np.min(results.resid),c = \"r\")\n",
    "plt.ylabel(\"Residuos del ajuste lineal\")\n",
    "plt.xlabel(\"Dias\")\n",
    "dia = np.argmin(results.resid)\n",
    "plt.title(f\"El punto de inflexión es al día: {dia} \")"
   ]
  },
  {
   "cell_type": "markdown",
   "metadata": {
    "colab_type": "text",
    "id": "HU-KqhQe9R-4"
   },
   "source": [
    "Es probable que el día crítico suceda en 11 días, que será cúando el comportamiento lineal empieza a subestimar los casos.\n",
    "\n",
    "Ese día a día de hoy sería alrededor del 2 al 3 de abril, así que por favor:\n",
    "\n",
    "<h1><center>QUEDENSE EN SU CASA</center></h1>\n",
    "<h1><center>NI PENSAR EN VACACIONES!</center></h1>\n",
    "\n",
    "\n",
    "Por otro lado, otra cuestión interesante a observar es el efecto del aislamiento y distanciamiento social, para los que observaron la parte del código de las ecuaciones diferenciales:\n",
    "\n",
    "```\n",
    "    St = S[-1] - (theta*beta*S[-1]*I[-1])*dt\n",
    "    Et = E[-1] + (theta*beta*S[-1]*I[-1] - alpha*E[-1])*dt\n",
    "```\n",
    "\n",
    "A las ecuaciones de **S**uceptibles y **E**xpuestos, les agregué un parámetro que afecta a $\\beta$ en este caso lo llamé $\\theta$, este parámetro simula la proporcion de gente que atiende la cuarentena (**DISTANCIAMIENTO**).\n",
    "\n",
    "$\\theta = 0 \\rightarrow$ supone que todos hacemos caso absoluto a la cuarentena\n",
    "\n",
    "$\\theta = 1 \\rightarrow$ supone que todos hacemos caso omiso a la cuarentena\n",
    "\n",
    "La ecuación modificada quedaría de la siguiente forma:\n",
    "\n",
    "\n",
    "\\begin{gather*} \n",
    "\\dot{S} =  - \\theta \\beta SI \\\\ \n",
    "\\dot{E} = \\theta \\beta SI - \\alpha E \\\\\n",
    "\\end{gather*}\n",
    "\n",
    "\n",
    "\n"
   ]
  },
  {
   "cell_type": "code",
   "execution_count": 23,
   "metadata": {
    "cellView": "form",
    "colab": {
     "base_uri": "https://localhost:8080/",
     "height": 542
    },
    "colab_type": "code",
    "id": "kiep_hCWCQd6",
    "outputId": "4a865cd0-6797-41f5-d901-d9df0212d290"
   },
   "outputs": [
    {
     "data": {
      "application/vnd.plotly.v1+json": {
       "config": {
        "plotlyServerURL": "https://plot.ly"
       },
       "data": [
        {
         "line": {
          "color": "#DE1738",
          "width": 2
         },
         "name": "Infectados",
         "showlegend": true,
         "type": "scatter",
         "visible": true,
         "x": [
          0,
          1,
          2,
          3,
          4,
          5,
          6,
          7,
          8,
          9,
          10,
          11,
          12,
          13,
          14,
          15,
          16,
          17,
          18,
          19,
          20,
          21,
          22,
          23,
          24,
          25,
          26,
          27,
          28,
          29,
          30,
          31,
          32,
          33,
          34,
          35,
          36,
          37,
          38,
          39,
          40,
          41,
          42,
          43,
          44,
          45,
          46,
          47,
          48,
          49,
          50,
          51,
          52,
          53,
          54,
          55,
          56,
          57,
          58,
          59,
          60,
          61,
          62,
          63,
          64,
          65,
          66,
          67,
          68,
          69,
          70,
          71,
          72,
          73,
          74,
          75,
          76,
          77,
          78,
          79,
          80,
          81,
          82,
          83,
          84,
          85,
          86,
          87,
          88,
          89,
          90
         ],
         "y": [
          32,
          41.6,
          52.479575857988166,
          66.14270425346214,
          83.36028122696511,
          105.05914482075562,
          132.40544650476346,
          166.8685338093323,
          210.29976103997814,
          265.0316413501508,
          334.00263278411745,
          420.9141307396679,
          530.4278872809391,
          668.4141214698565,
          842.2631044642815,
          1061.2760895265076,
          1337.1552060417848,
          1684.6164389720525,
          2122.155138497823,
          2672.9996610400613,
          3366.295633954826,
          4238.570662120486,
          5335.536407940217,
          6714.290651751617,
          8445.984020342728,
          10619.01093818434,
          13342.766158491286,
          16751.96781880005,
          21011.471499340674,
          26321.36710344505,
          32921.933637992275,
          41097.69018920325,
          51179.28342793938,
          63541.256556188535,
          78592.84405721608,
          96757.89879884452,
          118439.106264751,
          143961.26801100757,
          173489.5259523245,
          206922.2536230467,
          243766.4141050834,
          283016.2054399981,
          323072.08815602213,
          361750.6050983521,
          396434.3816162623,
          424383.80777364736,
          443174.1226558957,
          451152.6981938697,
          447771.48818558274,
          433675.994249797,
          410522.96198532794,
          380604.48381331016,
          346414.87544998695,
          310284.6554269395,
          274147.7744286636,
          239446.5437262889,
          207140.8729003011,
          177777.9294777617,
          151585.16054152822,
          128562.44845827669,
          108561.0028620062,
          91344.84296896138,
          76635.41756961067,
          64142.018842104204,
          53581.20328861038,
          44688.208364193015,
          37222.82350362767,
          30971.594172558744,
          25747.72221888903,
          21389.612633106233,
          17758.70566528067,
          14737.008829138678,
          12224.586744269216,
          10137.160550888253,
          8403.898481454858,
          6965.434157952056,
          5772.121294425589,
          4782.517026982355,
          3962.07710834939,
          3282.041987577669,
          2718.49153083546,
          2251.546624881927,
          1864.6973595181291,
          1544.2394115071634,
          1278.8023416701735,
          1058.9555851181992,
          876.8798586525529,
          726.0934774936051,
          601.2246459068114,
          497.82216241824204,
          412.1981704933656
         ]
        },
        {
         "line": {
          "color": "#DE1738",
          "width": 2
         },
         "name": "Infectados",
         "showlegend": true,
         "type": "scatter",
         "visible": false,
         "x": [
          0,
          1,
          2,
          3,
          4,
          5,
          6,
          7,
          8,
          9,
          10,
          11,
          12,
          13,
          14,
          15,
          16,
          17,
          18,
          19,
          20,
          21,
          22,
          23,
          24,
          25,
          26,
          27,
          28,
          29,
          30,
          31,
          32,
          33,
          34,
          35,
          36,
          37,
          38,
          39,
          40,
          41,
          42,
          43,
          44,
          45,
          46,
          47,
          48,
          49,
          50,
          51,
          52,
          53,
          54,
          55,
          56,
          57,
          58,
          59,
          60,
          61,
          62,
          63,
          64,
          65,
          66,
          67,
          68,
          69,
          70,
          71,
          72,
          73,
          74,
          75,
          76,
          77,
          78,
          79,
          80,
          81,
          82,
          83,
          84,
          85,
          86,
          87,
          88,
          89,
          90
         ],
         "y": [
          32,
          41.6,
          51.35961827218935,
          63.230851196073566,
          77.83348247459139,
          95.80722281544594,
          117.93089528389919,
          145.16241443604676,
          178.68059563978102,
          219.93606043082121,
          270.7137862297411,
          333.2099827184495,
          410.12654577881904,
          504.78705770429,
          621.2791721043394,
          764.6292686983265,
          941.0165156055417,
          1158.0349638856505,
          1425.0140475349474,
          1753.4098907363618,
          2157.28213539771,
          2653.8735682314796,
          3264.312568308876,
          4014.461148424378,
          4935.933826433712,
          6067.314225486973,
          7455.596335646266,
          9157.87447202805,
          11243.298149698554,
          13795.29241011951,
          16914.016307002003,
          20718.986303212947,
          25351.719170728353,
          30978.140299765357,
          37790.345944541674,
          46007.089477895875,
          55872.073529894944,
          67648.77485988778,
          81610.13527131741,
          98021.09510241683,
          117111.77699934559,
          139039.40377447283,
          163838.12977668134,
          191358.3276007485,
          221200.8596659871,
          252657.41103466312,
          284674.0758539069,
          315859.70113290707,
          344559.3161912717,
          369002.60879771004,
          387516.8673457549,
          398767.8981747039,
          401972.2684168897,
          397022.5289076551,
          384489.37095953187,
          365503.10846394894,
          341553.43212568405,
          314264.4715458548,
          285197.03529202164,
          255709.21397034058,
          226882.93767827874,
          199506.89934380903,
          174098.42514081523,
          150946.574716833,
          130162.51740677902,
          111728.10186558544,
          95537.81071289226,
          81432.34726940314,
          69223.9573213763,
          58714.52570779377,
          49707.8234119884,
          42017.27476203468,
          35470.44440026784,
          29911.21799106456,
          25200.42726916806,
          21215.475372704237,
          17849.360733238,
          15009.37614610552,
          12615.669081882543,
          10599.783780128382,
          8903.259432304822,
          7476.326906020664,
          6276.725064239648,
          5268.6437803771605,
          4421.791999891795,
          3710.584015948361,
          3113.43434051273,
          2612.1503379865303,
          2191.4115734190173,
          1838.325219633682,
          1542.0476036830178
         ]
        },
        {
         "line": {
          "color": "#DE1738",
          "width": 2
         },
         "name": "Infectados",
         "showlegend": true,
         "type": "scatter",
         "visible": false,
         "x": [
          0,
          1,
          2,
          3,
          4,
          5,
          6,
          7,
          8,
          9,
          10,
          11,
          12,
          13,
          14,
          15,
          16,
          17,
          18,
          19,
          20,
          21,
          22,
          23,
          24,
          25,
          26,
          27,
          28,
          29,
          30,
          31,
          32,
          33,
          34,
          35,
          36,
          37,
          38,
          39,
          40,
          41,
          42,
          43,
          44,
          45,
          46,
          47,
          48,
          49,
          50,
          51,
          52,
          53,
          54,
          55,
          56,
          57,
          58,
          59,
          60,
          61,
          62,
          63,
          64,
          65,
          66,
          67,
          68,
          69,
          70,
          71,
          72,
          73,
          74,
          75,
          76,
          77,
          78,
          79,
          80,
          81,
          82,
          83,
          84,
          85,
          86,
          87,
          88,
          89,
          90
         ],
         "y": [
          32,
          41.6,
          50.239660686390536,
          60.31899427913885,
          72.3850575059056,
          86.86096282048891,
          104.2310404993164,
          125.0740487240475,
          150.08411258994917,
          180.0939402202087,
          216.10246333574435,
          259.3079441974006,
          311.1476403572192,
          373.34531334993335,
          447.968111242572,
          537.4946436697827,
          644.8964070859994,
          773.7351141590021,
          928.2789412518395,
          1113.6412378808855,
          1335.9458463450962,
          1602.5238596698814,
          1922.1473973720542,
          2305.306788133672,
          2764.538389016972,
          3314.811093689192,
          3973.980306678439,
          4763.318659724584,
          5708.132825545775,
          6838.475154761501,
          8189.957102635119,
          9804.667923897425,
          11732.196058233063,
          14030.74086111667,
          16768.287330056828,
          20023.79426923735,
          23888.31449822175,
          28465.92142667494,
          33874.256642162865,
          40244.43560722918,
          47719.952235440076,
          56454.11063013333,
          66605.39278182668,
          78330.06453346997,
          91771.2648708952,
          107043.87344174026,
          124214.69037141647,
          143277.99247140146,
          164127.45106268383,
          186526.7625728759,
          210083.08621260556,
          234229.22003477698,
          258221.8033263431,
          281162.8654054506,
          302049.8467219679,
          319854.2892748946,
          333622.1949648442,
          342581.395728372,
          346236.04571244546,
          344428.32053318014,
          337353.6831722548,
          325527.0169225588,
          309708.6497867736,
          290807.57277414756,
          269781.5332600407,
          247550.43125531002,
          224932.8874624309,
          202608.83919987537,
          181105.62255183927,
          160802.01678414218,
          141943.9311315337,
          124666.07652483037,
          109015.31517332915,
          94972.84682564827,
          82473.6503115017,
          71422.53218312401,
          61706.744171167804,
          53205.47838988732,
          45796.708818763786,
          39361.88691826114,
          33788.96995229666,
          28974.198225212815,
          24822.964276016326,
          21250.045745624066,
          18179.410372685703,
          15543.748675503808,
          13283.847424622014,
          11347.883984017635,
          9690.69654658662,
          8273.066699300294,
          7061.0372385355895
         ]
        },
        {
         "line": {
          "color": "#DE1738",
          "width": 2
         },
         "name": "Infectados",
         "showlegend": true,
         "type": "scatter",
         "visible": false,
         "x": [
          0,
          1,
          2,
          3,
          4,
          5,
          6,
          7,
          8,
          9,
          10,
          11,
          12,
          13,
          14,
          15,
          16,
          17,
          18,
          19,
          20,
          21,
          22,
          23,
          24,
          25,
          26,
          27,
          28,
          29,
          30,
          31,
          32,
          33,
          34,
          35,
          36,
          37,
          38,
          39,
          40,
          41,
          42,
          43,
          44,
          45,
          46,
          47,
          48,
          49,
          50,
          51,
          52,
          53,
          54,
          55,
          56,
          57,
          58,
          59,
          60,
          61,
          62,
          63,
          64,
          65,
          66,
          67,
          68,
          69,
          70,
          71,
          72,
          73,
          74,
          75,
          76,
          77,
          78,
          79,
          80,
          81,
          82,
          83,
          84,
          85,
          86,
          87,
          88,
          89,
          90
         ],
         "y": [
          32,
          41.6,
          49.119703100591714,
          57.40713350265799,
          67.0150070378274,
          78.22037040741378,
          91.2976762315746,
          106.56072281702583,
          124.37484284176871,
          145.1662413093551,
          169.43223690511383,
          197.7531165280957,
          230.80594263704492,
          269.38064336540356,
          314.3987595871392,
          366.93528134893734,
          428.2440738961534,
          499.78747123988575,
          583.2707038234549,
          680.6819273953931,
          794.3387336487448,
          926.9421503090712,
          1081.6392795508998,
          1262.0958787089771,
          1472.5803551269858,
          1718.0608251875944,
          2004.317071641379,
          2338.0694160085736,
          2727.126692791433,
          3180.5556527086833,
          3708.874208793958,
          4324.27093741974,
          5040.853107907707,
          5874.925173170677,
          6845.299020232644,
          7973.636234055895,
          9284.821014037121,
          10807.359997374964,
          12573.80183110115,
          14621.164578607479,
          16991.352568568607,
          19731.53566071594,
          22894.452648416973,
          26538.586194682222,
          30728.13896733095,
          35532.719423202296,
          41026.621411049746,
          47287.555681194186,
          54394.66608114609,
          62425.64314938022,
          71452.74000007694,
          81537.5099127866,
          92724.13525378187,
          105031.31919006689,
          118442.88142876864,
          132897.44916744815,
          148277.96545901152,
          164402.1288822387,
          181015.27830215413,
          197787.55260281212,
          214317.2586913232,
          230142.12678335063,
          244759.4027776325,
          257654.4969644778,
          268336.3032732667,
          276375.63200860046,
          281441.9085350665,
          283332.8391076763,
          281992.4229562131,
          277514.46374792483,
          270131.20777797466,
          260189.26946470837,
          248116.9427773915,
          234387.9091923701,
          219486.15855600528,
          203875.88185481913,
          187978.59641509296,
          172158.2519214019,
          156713.8469425346,
          141878.30147145566,
          127821.97838573849,
          114659.23424456206,
          102456.58446345432,
          91241.37563815495,
          81010.18362514832,
          71736.44789253225,
          63377.08635371338,
          55878.00538389215,
          49178.53312454665,
          43214.87156410995,
          37922.69623939045
         ]
        },
        {
         "line": {
          "color": "#DE1738",
          "width": 2
         },
         "name": "Infectados",
         "showlegend": true,
         "type": "scatter",
         "visible": false,
         "x": [
          0,
          1,
          2,
          3,
          4,
          5,
          6,
          7,
          8,
          9,
          10,
          11,
          12,
          13,
          14,
          15,
          16,
          17,
          18,
          19,
          20,
          21,
          22,
          23,
          24,
          25,
          26,
          27,
          28,
          29,
          30,
          31,
          32,
          33,
          34,
          35,
          36,
          37,
          38,
          39,
          40,
          41,
          42,
          43,
          44,
          45,
          46,
          47,
          48,
          49,
          50,
          51,
          52,
          53,
          54,
          55,
          56,
          57,
          58,
          59,
          60,
          61,
          62,
          63,
          64,
          65,
          66,
          67,
          68,
          69,
          70,
          71,
          72,
          73,
          74,
          75,
          76,
          77,
          78,
          79,
          80,
          81,
          82,
          83,
          84,
          85,
          86,
          87,
          88,
          89,
          90
         ],
         "y": [
          32,
          41.6,
          47.99974551479289,
          54.49526886663098,
          61.723331787278696,
          69.88545103433798,
          79.12259521593715,
          89.57971497269278,
          101.41843660752706,
          114.82130103498926,
          129.99486046828522,
          147.17289604193135,
          166.62000894683666,
          188.6356731973639,
          213.55881632373683,
          241.77299708217967,
          273.71225696430196,
          309.8677316273106,
          350.7951188891179,
          397.12311163413716,
          449.56291692917716,
          508.91899693384966,
          576.1011828760173,
          652.1383305003778,
          738.1937040075601,
          835.5822955583529,
          945.7903088368895,
          1070.4970577757476,
          1211.5995550559935,
          1371.2400889605692,
          1551.8371109268567,
          1756.119778788278,
          1987.1665209359735,
          2248.4480027340032,
          2543.874886165166,
          2877.8507738078483,
          3255.33071485143,
          3681.885618785902,
          4163.772865042762,
          4708.013305840995,
          5322.474724281863,
          6015.961617256456,
          6798.310906891141,
          7680.49282551355,
          8674.715744072219,
          9794.533095039484,
          11054.94974633133,
          12472.524177117935,
          14065.461551181656,
          15853.691239492226,
          17858.920474325812,
          20104.65359406717,
          22616.163748623472,
          25420.400996047334,
          28545.817491682057,
          32022.08707766804,
          35879.693241158006,
          40149.35646646085,
          44861.269960942656,
          50044.112280617584,
          55723.80742921087,
          61922.00868312908,
          68654.29301458597,
          75928.06993707147,
          83740.2331624275,
          92074.61650307939,
          100899.35699580814,
          110164.31689412997,
          119798.76862215485,
          129709.59715841945,
          139780.3140640108,
          149871.19554875395,
          159820.84144308476,
          169449.39155838673,
          178563.52363906932,
          186963.193617222,
          194449.87570508503,
          200835.84074929374,
          205953.81052345192,
          209666.18272214118,
          211872.97238098818,
          212517.68302387648,
          211590.50636622283,
          209128.52959957434,
          205212.95976047352,
          199963.6997457707,
          193531.87639780663,
          186091.08837384518,
          177828.19316236133,
          168934.3951404074,
          159597.25525896368
         ]
        },
        {
         "line": {
          "color": "#DE1738",
          "width": 2
         },
         "name": "Infectados",
         "showlegend": true,
         "type": "scatter",
         "visible": false,
         "x": [
          0,
          1,
          2,
          3,
          4,
          5,
          6,
          7,
          8,
          9,
          10,
          11,
          12,
          13,
          14,
          15,
          16,
          17,
          18,
          19,
          20,
          21,
          22,
          23,
          24,
          25,
          26,
          27,
          28,
          29,
          30,
          31,
          32,
          33,
          34,
          35,
          36,
          37,
          38,
          39,
          40,
          41,
          42,
          43,
          44,
          45,
          46,
          47,
          48,
          49,
          50,
          51,
          52,
          53,
          54,
          55,
          56,
          57,
          58,
          59,
          60,
          61,
          62,
          63,
          64,
          65,
          66,
          67,
          68,
          69,
          70,
          71,
          72,
          73,
          74,
          75,
          76,
          77,
          78,
          79,
          80,
          81,
          82,
          83,
          84,
          85,
          86,
          87,
          88,
          89,
          90
         ],
         "y": [
          32,
          41.6,
          46.879787928994084,
          51.58340037105785,
          56.51003247118347,
          61.85621004596474,
          67.69758886981477,
          74.08829594246947,
          81.08166604813802,
          88.73484671715187,
          97.11011851039594,
          106.27557487294513,
          116.30570843284491,
          127.28201969482448,
          139.29367579464775,
          152.43822916909087,
          166.8224027033628,
          182.56294763944595,
          199.78758090222445,
          218.63600904139474,
          239.26104659834468,
          261.82983737009755,
          286.52518775488306,
          313.5470221268391,
          343.1139710020325,
          375.4651036253033,
          410.8618175276513,
          449.5898985763799,
          491.9617660632758,
          538.3189184465527,
          589.0345964751967,
          644.5166815725089,
          705.2108485290855,
          771.603992740838,
          844.2279534073614,
          923.6635552573963,
          1010.5449924624689,
          1105.5645794008417,
          1209.4778937964738,
          1323.1093384259707,
          1447.3581479919014,
          1583.204867819757,
          1731.7183306466654,
          1894.0631568102845,
          2071.507801468979,
          2265.433169913698,
          2477.3418183589947,
          2708.8677525781977,
          2961.786830084983,
          3238.0277629199877,
          3539.6837070803604,
          3869.024410773858,
          4228.508876460755,
          4620.798470466248,
          5048.770388125154,
          5515.531351201258,
          6024.43137686779,
          6579.077412931388,
          7183.346581254573,
          7841.3987094637405,
          8557.687758992104,
          9336.971674306153,
          10184.320082906888,
          11105.119167680636,
          12105.07291200532,
          13190.199783768348,
          14366.82377785502,
          15641.558579362636,
          17021.283444631576,
          18513.109228566962,
          20124.332821027197,
          21862.37810107438,
          23734.721387317153,
          25748.799270516087,
          27911.896679969806,
          30231.013080994137,
          32712.704854313593,
          35362.90220066043,
          38186.699379828744,
          41188.117769204386,
          44369.84214827509,
          47732.931814895295,
          51276.509639817305,
          54997.43397761443,
          58889.96046267577,
          62945.403087192324,
          67151.80650516739,
          71493.64410860912,
          75951.55890495503,
          80502.16636247336,
          85117.93990992745
         ]
        },
        {
         "line": {
          "color": "#DE1738",
          "width": 2
         },
         "name": "Infectados",
         "showlegend": true,
         "type": "scatter",
         "visible": false,
         "x": [
          0,
          1,
          2,
          3,
          4,
          5,
          6,
          7,
          8,
          9,
          10,
          11,
          12,
          13,
          14,
          15,
          16,
          17,
          18,
          19,
          20,
          21,
          22,
          23,
          24,
          25,
          26,
          27,
          28,
          29,
          30,
          31,
          32,
          33,
          34,
          35,
          36,
          37,
          38,
          39,
          40,
          41,
          42,
          43,
          44,
          45,
          46,
          47,
          48,
          49,
          50,
          51,
          52,
          53,
          54,
          55,
          56,
          57,
          58,
          59,
          60,
          61,
          62,
          63,
          64,
          65,
          66,
          67,
          68,
          69,
          70,
          71,
          72,
          73,
          74,
          75,
          76,
          77,
          78,
          79,
          80,
          81,
          82,
          83,
          84,
          85,
          86,
          87,
          88,
          89,
          90
         ],
         "y": [
          32,
          41.6,
          45.75983034319526,
          48.671528015938556,
          51.37510980646787,
          54.132652673581134,
          57.014447320211445,
          60.043729344972554,
          63.23242784193277,
          66.59000788269056,
          70.12567091600289,
          73.8489161728041,
          77.76969835450346,
          81.89848663672797,
          86.24630035020827,
          90.82473999819781,
          95.64601827268129,
          100.72299227837497,
          106.06919732363895,
          111.69888243041653,
          117.62704766715025,
          123.86948339978238,
          130.44281155693096,
          137.36452900884882,
          144.65305316402976,
          152.32776989187425,
          160.4090838845565,
          168.91847157611826,
          177.87853674183523,
          187.31306890606103,
          197.24710469203546,
          207.70699225254492,
          218.7204589258308,
          230.31668226674086,
          242.52636460879734,
          255.38181131858963,
          268.917012909672,
          283.16773118892553,
          298.17158961410456,
          313.9681680469891,
          330.5991020921721,
          348.108187216972,
          366.5414878532281,
          385.9474516867437,
          406.3770293448271,
          427.88379969665925,
          450.5241009850073,
          474.3571680110018,
          499.4452755961946,
          525.8538885477878,
          553.6518183536333,
          582.9113868331908,
          613.7085969689266,
          646.1233111394411,
          680.2394369707191,
          716.1451210150576,
          753.9329504581801,
          793.7001630435113,
          835.5488653882123,
          879.5862598480433,
          925.9248800669994,
          974.6828353225607,
          1025.984063747798,
          1079.9585944770033,
          1136.7428187213675,
          1196.4797697349131,
          1259.3194115777246,
          1325.4189365227642,
          1394.943070883453,
          1468.0643889608355,
          1544.963634720644,
          1625.8300507109304,
          1710.861713619051,
          1800.2658757415693,
          1894.2593115008399,
          1993.0686679863672,
          2096.9308183261533,
          2206.0932165016925,
          2320.8142520085844,
          2441.3636025313094,
          2568.0225825439943,
          2701.0844854673064,
          2840.85491670331,
          2987.6521145335414,
          3141.807255499048,
          3303.6647404831733,
          3473.582457286871,
          3651.932015021071,
          3839.0989451398486,
          4035.4828634010037,
          4241.497586466612
         ]
        },
        {
         "line": {
          "color": "#DE1738",
          "width": 2
         },
         "name": "Infectados",
         "showlegend": true,
         "type": "scatter",
         "visible": false,
         "x": [
          0,
          1,
          2,
          3,
          4,
          5,
          6,
          7,
          8,
          9,
          10,
          11,
          12,
          13,
          14,
          15,
          16,
          17,
          18,
          19,
          20,
          21,
          22,
          23,
          24,
          25,
          26,
          27,
          28,
          29,
          30,
          31,
          32,
          33,
          34,
          35,
          36,
          37,
          38,
          39,
          40,
          41,
          42,
          43,
          44,
          45,
          46,
          47,
          48,
          49,
          50,
          51,
          52,
          53,
          54,
          55,
          56,
          57,
          58,
          59,
          60,
          61,
          62,
          63,
          64,
          65,
          66,
          67,
          68,
          69,
          70,
          71,
          72,
          73,
          74,
          75,
          76,
          77,
          78,
          79,
          80,
          81,
          82,
          83,
          84,
          85,
          86,
          87,
          88,
          89,
          90
         ],
         "y": [
          32,
          41.6,
          44.639872757396446,
          45.75965180127313,
          46.318564510060206,
          46.714784035055956,
          47.064959431172845,
          47.403272033291145,
          47.739745636486745,
          48.077327516258826,
          48.41689204999289,
          48.758706455064285,
          49.102860156943606,
          49.44939056735531,
          49.79831992979687,
          50.149666113348424,
          50.50344577493627,
          50.859675286017044,
          51.21837100437118,
          51.579549354052006,
          51.9432268491357,
          52.30942010100817,
          52.67814582082908,
          53.04942082058308,
          53.42326201371708,
          53.799686415656105,
          54.17871114428349,
          54.56035342041048,
          54.94463056824244,
          55.33156001584392,
          55.721159295603066,
          56.113446044695564,
          56.508438005548065,
          56.906153026301105,
          57.30660906127146,
          57.70982417141388,
          58.115816524782126,
          58.52460439698932,
          58.93620617166744,
          59.35064034092608,
          59.76792550581014,
          60.188080376756744,
          60.61112377405101,
          61.037074628280756,
          61.46595198079012,
          61.897774984131914,
          62.332562902518696,
          62.770335112272555,
          63.21111110227346,
          63.65491047440615,
          64.10175294400544,
          64.55165834029998,
          65.00464660685427,
          65.46073780200898,
          65.91995209931942,
          66.38230978799199,
          66.84783127331887,
          67.3165370771105,
          67.78844783812595,
          68.26358431250105,
          68.74196737417437,
          69.22361801531055,
          69.70855734672148,
          70.1968065982847,
          70.68838711935919,
          71.18332037919866,
          71.68162796736168,
          72.18333159411922,
          72.68845309085903,
          73.1970144104869,
          73.70903762782494,
          74.2245449400064,
          74.74355866686709,
          75.2661012513336,
          75.79219525980754,
          76.32186338254651,
          76.85512843404092,
          77.39201335338727,
          77.93254120465714,
          78.47673517726234,
          79.02461858631561,
          79.57621487298721,
          80.13154760485689,
          80.6906404762615,
          81.25351730863781,
          81.82020205086053,
          82.39071877957547,
          82.96509169952778,
          83.54334514388488,
          84.12550357455413,
          84.71159158249526
         ]
        },
        {
         "line": {
          "color": "#DE1738",
          "width": 2
         },
         "name": "Infectados",
         "showlegend": true,
         "type": "scatter",
         "visible": false,
         "x": [
          0,
          1,
          2,
          3,
          4,
          5,
          6,
          7,
          8,
          9,
          10,
          11,
          12,
          13,
          14,
          15,
          16,
          17,
          18,
          19,
          20,
          21,
          22,
          23,
          24,
          25,
          26,
          27,
          28,
          29,
          30,
          31,
          32,
          33,
          34,
          35,
          36,
          37,
          38,
          39,
          40,
          41,
          42,
          43,
          44,
          45,
          46,
          47,
          48,
          49,
          50,
          51,
          52,
          53,
          54,
          55,
          56,
          57,
          58,
          59,
          60,
          61,
          62,
          63,
          64,
          65,
          66,
          67,
          68,
          69,
          70,
          71,
          72,
          73,
          74,
          75,
          76,
          77,
          78,
          79,
          80,
          81,
          82,
          83,
          84,
          85,
          86,
          87,
          88,
          89,
          90
         ],
         "y": [
          32,
          41.6,
          43.51991517159763,
          42.84777172706156,
          41.34039729889091,
          39.60260913483756,
          37.84091283123661,
          36.124174456052536,
          34.47377238535662,
          32.89477237995062,
          31.386704877875815,
          29.947287620201568,
          28.57370852689886,
          27.26306495656708,
          26.01251138986086,
          24.819306459831544,
          23.680825354518664,
          22.59456041942601,
          21.558117847204446,
          20.569213174848112,
          19.625666521949093,
          18.725397885901945,
          17.866422596638103,
          17.046846959995044,
          16.264864093700773,
          15.518749951540514,
          14.806859528625939,
          14.127623240023604,
          13.479543465010167,
          12.861191249455318,
          12.271203159133394,
          11.708278277077724,
          11.171175338400118,
          10.658709996295435,
          10.169752213236402,
          9.703223771636633,
          9.258095898520315,
          8.833386998985834,
          8.428160493488212,
          8.041522754192016,
          7.672621135862908,
          7.3206420969728105,
          6.98480940689089,
          6.664382435221054,
          6.358654519526408,
          6.066951407852838,
          5.7886297726276865,
          5.523075792665955,
          5.269703800165723,
          5.027954989716973,
          4.797296186484029,
          4.577218670851657,
          4.367237056948715,
          4.166888222581576,
          3.9757302882223526,
          3.793341642804684,
          3.6193200141826907,
          3.453281582206754,
          3.294860132463465,
          3.14370624881643,
          2.9994865429699087,
          2.861882919358638,
          2.7305918737448893,
          2.6053238239779053,
          2.4858024714416103,
          2.3717641917839867,
          2.262957453585935,
          2.159142263688891,
          2.0600896379591487,
          1.9655810963228142,
          1.8754081809587222,
          1.789371996587637,
          1.7072827718446881,
          1.6289594407684171,
          1.5542292434840974,
          1.4829273452012546,
          1.4148964726856512,
          1.3499865674044755,
          1.2880544545802002,
          1.2289635274236186,
          1.1725834458500015,
          1.118789849014218,
          1.067464081031117,
          1.0184929292765035,
          0.9717683746917773,
          0.9271873535417334,
          0.8846515301002755,
          0.8440670797628673,
          0.8053444821075263,
          0.7683983234480887,
          0.7331471084443947
         ]
        },
        {
         "line": {
          "color": "#DE1738",
          "width": 2
         },
         "name": "Infectados",
         "showlegend": true,
         "type": "scatter",
         "visible": false,
         "x": [
          0,
          1,
          2,
          3,
          4,
          5,
          6,
          7,
          8,
          9,
          10,
          11,
          12,
          13,
          14,
          15,
          16,
          17,
          18,
          19,
          20,
          21,
          22,
          23,
          24,
          25,
          26,
          27,
          28,
          29,
          30,
          31,
          32,
          33,
          34,
          35,
          36,
          37,
          38,
          39,
          40,
          41,
          42,
          43,
          44,
          45,
          46,
          47,
          48,
          49,
          50,
          51,
          52,
          53,
          54,
          55,
          56,
          57,
          58,
          59,
          60,
          61,
          62,
          63,
          64,
          65,
          66,
          67,
          68,
          69,
          70,
          71,
          72,
          73,
          74,
          75,
          76,
          77,
          78,
          79,
          80,
          81,
          82,
          83,
          84,
          85,
          86,
          87,
          88,
          89,
          90
         ],
         "y": [
          32,
          41.6,
          42.399957585798816,
          39.93588779330385,
          36.44060888989259,
          32.796132863951826,
          29.334093940885076,
          26.16368101227428,
          23.305792571605867,
          20.747742442192354,
          18.465410513232808,
          16.432071033211717,
          14.621784338705051,
          13.01058375843727,
          11.57678059933989,
          10.300927404045863,
          9.165658863179164,
          8.155498410772145,
          7.256664864294754,
          6.456891648671944,
          5.7452623634226105,
          5.1120630028535015,
          4.548649860094593,
          4.047331741842819,
          3.601265062482565,
          3.2043604580296075,
          2.8511996749032416,
          2.536961611260786,
          2.2573565063653547,
          2.008567381721025,
          1.7871979354790537,
          1.5902261792041859,
          1.4149631842658879,
          1.2590163747798901,
          1.120256866050326,
          0.996790402669432,
          0.8869314995615779,
          0.7891804329769123,
          0.7022027673417186,
          0.6248111384877975,
          0.555949044583857,
          0.4946764234982712,
          0.4401568197086395,
          0.39164596557216014,
          0.34848162107808384,
          0.310074533382959,
          0.27590039271551,
          0.24549267483945603,
          0.21843627236503496,
          0.19436182796865314,
          0.17294069216191815,
          0.1538804367771391,
          0.13692086292256564,
          0.12183044891074724,
          0.10840318966956718,
          0.09645578448973308,
          0.08582513471773662,
          0.07636611723444799,
          0.06794960332433815,
          0.06046069589022471,
          0.053797160949138355,
          0.04786803199710093,
          0.04259236819049613,
          0.03789814939151515,
          0.033721292993537946,
          0.0300047791047704,
          0.026697872147694538,
          0.023755428248095053,
          0.02113727895856996,
          0.01880768290350263,
          0.016734837859693357,
          0.014890446611877833,
          0.013249330656460964,
          0.011789086479988121,
          0.010489779720079752,
          0.009333673033702925,
          0.008304983957805016,
          0.007389669456771851,
          0.006575234215484583,
          0.005850560060909862,
          0.0052057541835914475,
          0.004632014087056191,
          0.0041215074215063775,
          0.003667265061361649,
          0.0032630859670105166,
          0.002903452532002343,
          0.002583455260051437,
          0.0022987257435897698,
          0.002045377028932499,
          0.001819950553957979,
          0.001619368933927894
         ]
        },
        {
         "line": {
          "color": "#DE1738",
          "width": 2
         },
         "name": "Infectados",
         "showlegend": true,
         "type": "scatter",
         "visible": false,
         "x": [
          0,
          1,
          2,
          3,
          4,
          5,
          6,
          7,
          8,
          9,
          10,
          11,
          12,
          13,
          14,
          15,
          16,
          17,
          18,
          19,
          20,
          21,
          22,
          23,
          24,
          25,
          26,
          27,
          28,
          29,
          30,
          31,
          32,
          33,
          34,
          35,
          36,
          37,
          38,
          39,
          40,
          41,
          42,
          43,
          44,
          45,
          46,
          47,
          48,
          49,
          50,
          51,
          52,
          53,
          54,
          55,
          56,
          57,
          58,
          59,
          60,
          61,
          62,
          63,
          64,
          65,
          66,
          67,
          68,
          69,
          70,
          71,
          72,
          73,
          74,
          75,
          76,
          77,
          78,
          79,
          80,
          81,
          82,
          83,
          84,
          85,
          86,
          87,
          88,
          89,
          90
         ],
         "y": [
          32,
          41.6,
          41.28,
          37.02400000000001,
          31.6192,
          26.29536,
          21.536288,
          17.4790304,
          14.10822432,
          11.349079455999998,
          9.110513564799998,
          7.304035851839999,
          5.851041181472,
          4.6847391951776,
          3.7497444811420797,
          3.0007721474136635,
          2.4011059991809307,
          1.9211289399697447,
          1.5370252222882956,
          1.2296812129868864,
          0.9837754879676343,
          0.7870356491631699,
          0.6296361487250672,
          0.5037127336773194,
          0.40297209429048836,
          0.32237862910670706,
          0.25790338012252384,
          0.20632294251659816,
          0.1650584732225681,
          0.13204683818269924,
          0.1056375003484818,
          0.08451001517994663,
          0.06760801959453791,
          0.05408641940092062,
          0.043269137383381645,
          0.03461531083802789,
          0.027692249136083605,
          0.022153799541697525,
          0.017723039749773344,
          0.014178431858026336,
          0.011342745515524898,
          0.009074196426971834,
          0.0072593571488534245,
          0.005807485722720718,
          0.004645988579995564,
          0.003716790864905946,
          0.0029734326923795042,
          0.002378746154130977,
          0.0019029969234184685,
          0.001522397538791618,
          0.0012179180310617163,
          0.0009743344248635838,
          0.0007794675398979725,
          0.0006235740319219307,
          0.0004988592255393209,
          0.0003990873804323448,
          0.00031926990434632,
          0.00025541592347727804,
          0.00020433273878193346,
          0.00016346619102560226,
          0.00013077295282050956,
          0.00010461836225642152,
          8.369468980514416e-05,
          6.695575184411881e-05,
          5.356460147529678e-05,
          4.285168118023829e-05,
          3.428134494419107e-05,
          2.7425075955353073e-05,
          2.194006076428257e-05,
          1.7552048611426107e-05,
          1.4041638889140914e-05,
          1.1233311111312745e-05,
          8.986648889050204e-06,
          7.189319111240166e-06,
          5.751455288992134e-06,
          4.6011642311937084e-06,
          3.6809313849549675e-06,
          2.944745107963974e-06,
          2.3557960863711795e-06,
          1.8846368690969435e-06,
          1.507709495277555e-06,
          1.206167596222044e-06,
          9.64934076977635e-07,
          7.719472615821081e-07,
          6.175578092656865e-07,
          4.940462474125492e-07,
          3.952369979300393e-07,
          3.161895983440315e-07,
          2.529516786752252e-07,
          2.0236134294018015e-07,
          1.618890743521441e-07
         ]
        }
       ],
       "layout": {
        "autosize": true,
        "sliders": [
         {
          "active": 0,
          "currentvalue": {
           "prefix": "Distanciamiento (Theta): "
          },
          "pad": {
           "t": 50
          },
          "steps": [
           {
            "args": [
             "visible",
             [
              true,
              false,
              false,
              false,
              false,
              false,
              false,
              false,
              false,
              false,
              false
             ]
            ],
            "label": "Caso Omiso",
            "method": "restyle"
           },
           {
            "args": [
             "visible",
             [
              false,
              true,
              false,
              false,
              false,
              false,
              false,
              false,
              false,
              false,
              false
             ]
            ],
            "label": "0.9",
            "method": "restyle"
           },
           {
            "args": [
             "visible",
             [
              false,
              false,
              true,
              false,
              false,
              false,
              false,
              false,
              false,
              false,
              false
             ]
            ],
            "label": "0.8",
            "method": "restyle"
           },
           {
            "args": [
             "visible",
             [
              false,
              false,
              false,
              true,
              false,
              false,
              false,
              false,
              false,
              false,
              false
             ]
            ],
            "label": "0.7",
            "method": "restyle"
           },
           {
            "args": [
             "visible",
             [
              false,
              false,
              false,
              false,
              true,
              false,
              false,
              false,
              false,
              false,
              false
             ]
            ],
            "label": "0.6",
            "method": "restyle"
           },
           {
            "args": [
             "visible",
             [
              false,
              false,
              false,
              false,
              false,
              true,
              false,
              false,
              false,
              false,
              false
             ]
            ],
            "label": "0.5",
            "method": "restyle"
           },
           {
            "args": [
             "visible",
             [
              false,
              false,
              false,
              false,
              false,
              false,
              true,
              false,
              false,
              false,
              false
             ]
            ],
            "label": "0.4",
            "method": "restyle"
           },
           {
            "args": [
             "visible",
             [
              false,
              false,
              false,
              false,
              false,
              false,
              false,
              true,
              false,
              false,
              false
             ]
            ],
            "label": "0.3",
            "method": "restyle"
           },
           {
            "args": [
             "visible",
             [
              false,
              false,
              false,
              false,
              false,
              false,
              false,
              false,
              true,
              false,
              false
             ]
            ],
            "label": "0.2",
            "method": "restyle"
           },
           {
            "args": [
             "visible",
             [
              false,
              false,
              false,
              false,
              false,
              false,
              false,
              false,
              false,
              true,
              false
             ]
            ],
            "label": "0.1",
            "method": "restyle"
           },
           {
            "args": [
             "visible",
             [
              false,
              false,
              false,
              false,
              false,
              false,
              false,
              false,
              false,
              false,
              true
             ]
            ],
            "label": "Aislamiento Total",
            "method": "restyle"
           }
          ]
         }
        ],
        "template": {
         "data": {
          "bar": [
           {
            "error_x": {
             "color": "#2a3f5f"
            },
            "error_y": {
             "color": "#2a3f5f"
            },
            "marker": {
             "line": {
              "color": "#E5ECF6",
              "width": 0.5
             }
            },
            "type": "bar"
           }
          ],
          "barpolar": [
           {
            "marker": {
             "line": {
              "color": "#E5ECF6",
              "width": 0.5
             }
            },
            "type": "barpolar"
           }
          ],
          "carpet": [
           {
            "aaxis": {
             "endlinecolor": "#2a3f5f",
             "gridcolor": "white",
             "linecolor": "white",
             "minorgridcolor": "white",
             "startlinecolor": "#2a3f5f"
            },
            "baxis": {
             "endlinecolor": "#2a3f5f",
             "gridcolor": "white",
             "linecolor": "white",
             "minorgridcolor": "white",
             "startlinecolor": "#2a3f5f"
            },
            "type": "carpet"
           }
          ],
          "choropleth": [
           {
            "colorbar": {
             "outlinewidth": 0,
             "ticks": ""
            },
            "type": "choropleth"
           }
          ],
          "contour": [
           {
            "colorbar": {
             "outlinewidth": 0,
             "ticks": ""
            },
            "colorscale": [
             [
              0,
              "#0d0887"
             ],
             [
              0.1111111111111111,
              "#46039f"
             ],
             [
              0.2222222222222222,
              "#7201a8"
             ],
             [
              0.3333333333333333,
              "#9c179e"
             ],
             [
              0.4444444444444444,
              "#bd3786"
             ],
             [
              0.5555555555555556,
              "#d8576b"
             ],
             [
              0.6666666666666666,
              "#ed7953"
             ],
             [
              0.7777777777777778,
              "#fb9f3a"
             ],
             [
              0.8888888888888888,
              "#fdca26"
             ],
             [
              1,
              "#f0f921"
             ]
            ],
            "type": "contour"
           }
          ],
          "contourcarpet": [
           {
            "colorbar": {
             "outlinewidth": 0,
             "ticks": ""
            },
            "type": "contourcarpet"
           }
          ],
          "heatmap": [
           {
            "colorbar": {
             "outlinewidth": 0,
             "ticks": ""
            },
            "colorscale": [
             [
              0,
              "#0d0887"
             ],
             [
              0.1111111111111111,
              "#46039f"
             ],
             [
              0.2222222222222222,
              "#7201a8"
             ],
             [
              0.3333333333333333,
              "#9c179e"
             ],
             [
              0.4444444444444444,
              "#bd3786"
             ],
             [
              0.5555555555555556,
              "#d8576b"
             ],
             [
              0.6666666666666666,
              "#ed7953"
             ],
             [
              0.7777777777777778,
              "#fb9f3a"
             ],
             [
              0.8888888888888888,
              "#fdca26"
             ],
             [
              1,
              "#f0f921"
             ]
            ],
            "type": "heatmap"
           }
          ],
          "heatmapgl": [
           {
            "colorbar": {
             "outlinewidth": 0,
             "ticks": ""
            },
            "colorscale": [
             [
              0,
              "#0d0887"
             ],
             [
              0.1111111111111111,
              "#46039f"
             ],
             [
              0.2222222222222222,
              "#7201a8"
             ],
             [
              0.3333333333333333,
              "#9c179e"
             ],
             [
              0.4444444444444444,
              "#bd3786"
             ],
             [
              0.5555555555555556,
              "#d8576b"
             ],
             [
              0.6666666666666666,
              "#ed7953"
             ],
             [
              0.7777777777777778,
              "#fb9f3a"
             ],
             [
              0.8888888888888888,
              "#fdca26"
             ],
             [
              1,
              "#f0f921"
             ]
            ],
            "type": "heatmapgl"
           }
          ],
          "histogram": [
           {
            "marker": {
             "colorbar": {
              "outlinewidth": 0,
              "ticks": ""
             }
            },
            "type": "histogram"
           }
          ],
          "histogram2d": [
           {
            "colorbar": {
             "outlinewidth": 0,
             "ticks": ""
            },
            "colorscale": [
             [
              0,
              "#0d0887"
             ],
             [
              0.1111111111111111,
              "#46039f"
             ],
             [
              0.2222222222222222,
              "#7201a8"
             ],
             [
              0.3333333333333333,
              "#9c179e"
             ],
             [
              0.4444444444444444,
              "#bd3786"
             ],
             [
              0.5555555555555556,
              "#d8576b"
             ],
             [
              0.6666666666666666,
              "#ed7953"
             ],
             [
              0.7777777777777778,
              "#fb9f3a"
             ],
             [
              0.8888888888888888,
              "#fdca26"
             ],
             [
              1,
              "#f0f921"
             ]
            ],
            "type": "histogram2d"
           }
          ],
          "histogram2dcontour": [
           {
            "colorbar": {
             "outlinewidth": 0,
             "ticks": ""
            },
            "colorscale": [
             [
              0,
              "#0d0887"
             ],
             [
              0.1111111111111111,
              "#46039f"
             ],
             [
              0.2222222222222222,
              "#7201a8"
             ],
             [
              0.3333333333333333,
              "#9c179e"
             ],
             [
              0.4444444444444444,
              "#bd3786"
             ],
             [
              0.5555555555555556,
              "#d8576b"
             ],
             [
              0.6666666666666666,
              "#ed7953"
             ],
             [
              0.7777777777777778,
              "#fb9f3a"
             ],
             [
              0.8888888888888888,
              "#fdca26"
             ],
             [
              1,
              "#f0f921"
             ]
            ],
            "type": "histogram2dcontour"
           }
          ],
          "mesh3d": [
           {
            "colorbar": {
             "outlinewidth": 0,
             "ticks": ""
            },
            "type": "mesh3d"
           }
          ],
          "parcoords": [
           {
            "line": {
             "colorbar": {
              "outlinewidth": 0,
              "ticks": ""
             }
            },
            "type": "parcoords"
           }
          ],
          "pie": [
           {
            "automargin": true,
            "type": "pie"
           }
          ],
          "scatter": [
           {
            "marker": {
             "colorbar": {
              "outlinewidth": 0,
              "ticks": ""
             }
            },
            "type": "scatter"
           }
          ],
          "scatter3d": [
           {
            "line": {
             "colorbar": {
              "outlinewidth": 0,
              "ticks": ""
             }
            },
            "marker": {
             "colorbar": {
              "outlinewidth": 0,
              "ticks": ""
             }
            },
            "type": "scatter3d"
           }
          ],
          "scattercarpet": [
           {
            "marker": {
             "colorbar": {
              "outlinewidth": 0,
              "ticks": ""
             }
            },
            "type": "scattercarpet"
           }
          ],
          "scattergeo": [
           {
            "marker": {
             "colorbar": {
              "outlinewidth": 0,
              "ticks": ""
             }
            },
            "type": "scattergeo"
           }
          ],
          "scattergl": [
           {
            "marker": {
             "colorbar": {
              "outlinewidth": 0,
              "ticks": ""
             }
            },
            "type": "scattergl"
           }
          ],
          "scattermapbox": [
           {
            "marker": {
             "colorbar": {
              "outlinewidth": 0,
              "ticks": ""
             }
            },
            "type": "scattermapbox"
           }
          ],
          "scatterpolar": [
           {
            "marker": {
             "colorbar": {
              "outlinewidth": 0,
              "ticks": ""
             }
            },
            "type": "scatterpolar"
           }
          ],
          "scatterpolargl": [
           {
            "marker": {
             "colorbar": {
              "outlinewidth": 0,
              "ticks": ""
             }
            },
            "type": "scatterpolargl"
           }
          ],
          "scatterternary": [
           {
            "marker": {
             "colorbar": {
              "outlinewidth": 0,
              "ticks": ""
             }
            },
            "type": "scatterternary"
           }
          ],
          "surface": [
           {
            "colorbar": {
             "outlinewidth": 0,
             "ticks": ""
            },
            "colorscale": [
             [
              0,
              "#0d0887"
             ],
             [
              0.1111111111111111,
              "#46039f"
             ],
             [
              0.2222222222222222,
              "#7201a8"
             ],
             [
              0.3333333333333333,
              "#9c179e"
             ],
             [
              0.4444444444444444,
              "#bd3786"
             ],
             [
              0.5555555555555556,
              "#d8576b"
             ],
             [
              0.6666666666666666,
              "#ed7953"
             ],
             [
              0.7777777777777778,
              "#fb9f3a"
             ],
             [
              0.8888888888888888,
              "#fdca26"
             ],
             [
              1,
              "#f0f921"
             ]
            ],
            "type": "surface"
           }
          ],
          "table": [
           {
            "cells": {
             "fill": {
              "color": "#EBF0F8"
             },
             "line": {
              "color": "white"
             }
            },
            "header": {
             "fill": {
              "color": "#C8D4E3"
             },
             "line": {
              "color": "white"
             }
            },
            "type": "table"
           }
          ]
         },
         "layout": {
          "annotationdefaults": {
           "arrowcolor": "#2a3f5f",
           "arrowhead": 0,
           "arrowwidth": 1
          },
          "coloraxis": {
           "colorbar": {
            "outlinewidth": 0,
            "ticks": ""
           }
          },
          "colorscale": {
           "diverging": [
            [
             0,
             "#8e0152"
            ],
            [
             0.1,
             "#c51b7d"
            ],
            [
             0.2,
             "#de77ae"
            ],
            [
             0.3,
             "#f1b6da"
            ],
            [
             0.4,
             "#fde0ef"
            ],
            [
             0.5,
             "#f7f7f7"
            ],
            [
             0.6,
             "#e6f5d0"
            ],
            [
             0.7,
             "#b8e186"
            ],
            [
             0.8,
             "#7fbc41"
            ],
            [
             0.9,
             "#4d9221"
            ],
            [
             1,
             "#276419"
            ]
           ],
           "sequential": [
            [
             0,
             "#0d0887"
            ],
            [
             0.1111111111111111,
             "#46039f"
            ],
            [
             0.2222222222222222,
             "#7201a8"
            ],
            [
             0.3333333333333333,
             "#9c179e"
            ],
            [
             0.4444444444444444,
             "#bd3786"
            ],
            [
             0.5555555555555556,
             "#d8576b"
            ],
            [
             0.6666666666666666,
             "#ed7953"
            ],
            [
             0.7777777777777778,
             "#fb9f3a"
            ],
            [
             0.8888888888888888,
             "#fdca26"
            ],
            [
             1,
             "#f0f921"
            ]
           ],
           "sequentialminus": [
            [
             0,
             "#0d0887"
            ],
            [
             0.1111111111111111,
             "#46039f"
            ],
            [
             0.2222222222222222,
             "#7201a8"
            ],
            [
             0.3333333333333333,
             "#9c179e"
            ],
            [
             0.4444444444444444,
             "#bd3786"
            ],
            [
             0.5555555555555556,
             "#d8576b"
            ],
            [
             0.6666666666666666,
             "#ed7953"
            ],
            [
             0.7777777777777778,
             "#fb9f3a"
            ],
            [
             0.8888888888888888,
             "#fdca26"
            ],
            [
             1,
             "#f0f921"
            ]
           ]
          },
          "colorway": [
           "#636efa",
           "#EF553B",
           "#00cc96",
           "#ab63fa",
           "#FFA15A",
           "#19d3f3",
           "#FF6692",
           "#B6E880",
           "#FF97FF",
           "#FECB52"
          ],
          "font": {
           "color": "#2a3f5f"
          },
          "geo": {
           "bgcolor": "white",
           "lakecolor": "white",
           "landcolor": "#E5ECF6",
           "showlakes": true,
           "showland": true,
           "subunitcolor": "white"
          },
          "hoverlabel": {
           "align": "left"
          },
          "hovermode": "closest",
          "mapbox": {
           "style": "light"
          },
          "paper_bgcolor": "white",
          "plot_bgcolor": "#E5ECF6",
          "polar": {
           "angularaxis": {
            "gridcolor": "white",
            "linecolor": "white",
            "ticks": ""
           },
           "bgcolor": "#E5ECF6",
           "radialaxis": {
            "gridcolor": "white",
            "linecolor": "white",
            "ticks": ""
           }
          },
          "scene": {
           "xaxis": {
            "backgroundcolor": "#E5ECF6",
            "gridcolor": "white",
            "gridwidth": 2,
            "linecolor": "white",
            "showbackground": true,
            "ticks": "",
            "zerolinecolor": "white"
           },
           "yaxis": {
            "backgroundcolor": "#E5ECF6",
            "gridcolor": "white",
            "gridwidth": 2,
            "linecolor": "white",
            "showbackground": true,
            "ticks": "",
            "zerolinecolor": "white"
           },
           "zaxis": {
            "backgroundcolor": "#E5ECF6",
            "gridcolor": "white",
            "gridwidth": 2,
            "linecolor": "white",
            "showbackground": true,
            "ticks": "",
            "zerolinecolor": "white"
           }
          },
          "shapedefaults": {
           "line": {
            "color": "#2a3f5f"
           }
          },
          "ternary": {
           "aaxis": {
            "gridcolor": "white",
            "linecolor": "white",
            "ticks": ""
           },
           "baxis": {
            "gridcolor": "white",
            "linecolor": "white",
            "ticks": ""
           },
           "bgcolor": "#E5ECF6",
           "caxis": {
            "gridcolor": "white",
            "linecolor": "white",
            "ticks": ""
           }
          },
          "title": {
           "x": 0.05
          },
          "xaxis": {
           "automargin": true,
           "gridcolor": "white",
           "linecolor": "white",
           "ticks": "",
           "title": {
            "standoff": 15
           },
           "zerolinecolor": "white",
           "zerolinewidth": 2
          },
          "yaxis": {
           "automargin": true,
           "gridcolor": "white",
           "linecolor": "white",
           "ticks": "",
           "title": {
            "standoff": 15
           },
           "zerolinecolor": "white",
           "zerolinewidth": 2
          }
         }
        },
        "title": {
         "text": "Predicción del modelo SEIR de la evolución de COVID-19 en Monterrey, Mexico"
        },
        "xaxis": {
         "autorange": true,
         "range": [
          0,
          90
         ],
         "title": {
          "text": "Días"
         },
         "type": "linear"
        },
        "yaxis": {
         "autorange": true,
         "range": [
          -25030.261010770544,
          476214.9592046403
         ],
         "title": {
          "text": "Infectados Totales"
         },
         "type": "linear"
        }
       }
      },
      "image/png": "[encoded data removed]",
      "text/html": [
       "<div>\n",
       "        \n",
       "        \n",
       "            <div id=\"af158325-2ea6-4a87-9d71-80cccc6fa7ac\" class=\"plotly-graph-div\" style=\"height:525px; width:100%;\"></div>\n",
       "            <script type=\"text/javascript\">\n",
       "                require([\"plotly\"], function(Plotly) {\n",
       "                    window.PLOTLYENV=window.PLOTLYENV || {};\n",
       "                    \n",
       "                if (document.getElementById(\"af158325-2ea6-4a87-9d71-80cccc6fa7ac\")) {\n",
       "                    Plotly.newPlot(\n",
       "                        'af158325-2ea6-4a87-9d71-80cccc6fa7ac',\n",
       "                        [{\"line\": {\"color\": \"#DE1738\", \"width\": 2}, \"name\": \"Infectados\", \"showlegend\": true, \"type\": \"scatter\", \"visible\": true, \"x\": [0, 1, 2, 3, 4, 5, 6, 7, 8, 9, 10, 11, 12, 13, 14, 15, 16, 17, 18, 19, 20, 21, 22, 23, 24, 25, 26, 27, 28, 29, 30, 31, 32, 33, 34, 35, 36, 37, 38, 39, 40, 41, 42, 43, 44, 45, 46, 47, 48, 49, 50, 51, 52, 53, 54, 55, 56, 57, 58, 59, 60, 61, 62, 63, 64, 65, 66, 67, 68, 69, 70, 71, 72, 73, 74, 75, 76, 77, 78, 79, 80, 81, 82, 83, 84, 85, 86, 87, 88, 89, 90], \"y\": [32.0, 41.6, 52.479575857988166, 66.14270425346214, 83.36028122696511, 105.05914482075562, 132.40544650476346, 166.8685338093323, 210.29976103997814, 265.0316413501508, 334.00263278411745, 420.9141307396679, 530.4278872809391, 668.4141214698565, 842.2631044642815, 1061.2760895265076, 1337.1552060417848, 1684.6164389720525, 2122.155138497823, 2672.9996610400613, 3366.295633954826, 4238.570662120486, 5335.536407940217, 6714.290651751617, 8445.984020342728, 10619.01093818434, 13342.766158491286, 16751.96781880005, 21011.471499340674, 26321.36710344505, 32921.933637992275, 41097.69018920325, 51179.28342793938, 63541.256556188535, 78592.84405721608, 96757.89879884452, 118439.106264751, 143961.26801100757, 173489.5259523245, 206922.2536230467, 243766.4141050834, 283016.2054399981, 323072.08815602213, 361750.6050983521, 396434.3816162623, 424383.80777364736, 443174.1226558957, 451152.6981938697, 447771.48818558274, 433675.994249797, 410522.96198532794, 380604.48381331016, 346414.87544998695, 310284.6554269395, 274147.7744286636, 239446.5437262889, 207140.8729003011, 177777.9294777617, 151585.16054152822, 128562.44845827669, 108561.0028620062, 91344.84296896138, 76635.41756961067, 64142.018842104204, 53581.20328861038, 44688.208364193015, 37222.82350362767, 30971.594172558744, 25747.72221888903, 21389.612633106233, 17758.70566528067, 14737.008829138678, 12224.586744269216, 10137.160550888253, 8403.898481454858, 6965.434157952056, 5772.121294425589, 4782.517026982355, 3962.07710834939, 3282.041987577669, 2718.49153083546, 2251.546624881927, 1864.6973595181291, 1544.2394115071634, 1278.8023416701735, 1058.9555851181992, 876.8798586525529, 726.0934774936051, 601.2246459068114, 497.82216241824204, 412.1981704933656]}, {\"line\": {\"color\": \"#DE1738\", \"width\": 2}, \"name\": \"Infectados\", \"showlegend\": true, \"type\": \"scatter\", \"visible\": false, \"x\": [0, 1, 2, 3, 4, 5, 6, 7, 8, 9, 10, 11, 12, 13, 14, 15, 16, 17, 18, 19, 20, 21, 22, 23, 24, 25, 26, 27, 28, 29, 30, 31, 32, 33, 34, 35, 36, 37, 38, 39, 40, 41, 42, 43, 44, 45, 46, 47, 48, 49, 50, 51, 52, 53, 54, 55, 56, 57, 58, 59, 60, 61, 62, 63, 64, 65, 66, 67, 68, 69, 70, 71, 72, 73, 74, 75, 76, 77, 78, 79, 80, 81, 82, 83, 84, 85, 86, 87, 88, 89, 90], \"y\": [32.0, 41.6, 51.35961827218935, 63.230851196073566, 77.83348247459139, 95.80722281544594, 117.93089528389919, 145.16241443604676, 178.68059563978102, 219.93606043082121, 270.7137862297411, 333.2099827184495, 410.12654577881904, 504.78705770429, 621.2791721043394, 764.6292686983265, 941.0165156055417, 1158.0349638856505, 1425.0140475349474, 1753.4098907363618, 2157.28213539771, 2653.8735682314796, 3264.312568308876, 4014.461148424378, 4935.933826433712, 6067.314225486973, 7455.596335646266, 9157.87447202805, 11243.298149698554, 13795.29241011951, 16914.016307002003, 20718.986303212947, 25351.719170728353, 30978.140299765357, 37790.345944541674, 46007.089477895875, 55872.073529894944, 67648.77485988778, 81610.13527131741, 98021.09510241683, 117111.77699934559, 139039.40377447283, 163838.12977668134, 191358.3276007485, 221200.8596659871, 252657.41103466312, 284674.0758539069, 315859.70113290707, 344559.3161912717, 369002.60879771004, 387516.8673457549, 398767.8981747039, 401972.2684168897, 397022.5289076551, 384489.37095953187, 365503.10846394894, 341553.43212568405, 314264.4715458548, 285197.03529202164, 255709.21397034058, 226882.93767827874, 199506.89934380903, 174098.42514081523, 150946.574716833, 130162.51740677902, 111728.10186558544, 95537.81071289226, 81432.34726940314, 69223.9573213763, 58714.52570779377, 49707.8234119884, 42017.27476203468, 35470.44440026784, 29911.21799106456, 25200.42726916806, 21215.475372704237, 17849.360733238, 15009.37614610552, 12615.669081882543, 10599.783780128382, 8903.259432304822, 7476.326906020664, 6276.725064239648, 5268.6437803771605, 4421.791999891795, 3710.584015948361, 3113.43434051273, 2612.1503379865303, 2191.4115734190173, 1838.325219633682, 1542.0476036830178]}, {\"line\": {\"color\": \"#DE1738\", \"width\": 2}, \"name\": \"Infectados\", \"showlegend\": true, \"type\": \"scatter\", \"visible\": false, \"x\": [0, 1, 2, 3, 4, 5, 6, 7, 8, 9, 10, 11, 12, 13, 14, 15, 16, 17, 18, 19, 20, 21, 22, 23, 24, 25, 26, 27, 28, 29, 30, 31, 32, 33, 34, 35, 36, 37, 38, 39, 40, 41, 42, 43, 44, 45, 46, 47, 48, 49, 50, 51, 52, 53, 54, 55, 56, 57, 58, 59, 60, 61, 62, 63, 64, 65, 66, 67, 68, 69, 70, 71, 72, 73, 74, 75, 76, 77, 78, 79, 80, 81, 82, 83, 84, 85, 86, 87, 88, 89, 90], \"y\": [32.0, 41.6, 50.239660686390536, 60.31899427913885, 72.3850575059056, 86.86096282048891, 104.2310404993164, 125.0740487240475, 150.08411258994917, 180.0939402202087, 216.10246333574435, 259.3079441974006, 311.1476403572192, 373.34531334993335, 447.968111242572, 537.4946436697827, 644.8964070859994, 773.7351141590021, 928.2789412518395, 1113.6412378808855, 1335.9458463450962, 1602.5238596698814, 1922.1473973720542, 2305.306788133672, 2764.538389016972, 3314.811093689192, 3973.980306678439, 4763.318659724584, 5708.132825545775, 6838.475154761501, 8189.957102635119, 9804.667923897425, 11732.196058233063, 14030.74086111667, 16768.287330056828, 20023.79426923735, 23888.31449822175, 28465.92142667494, 33874.256642162865, 40244.43560722918, 47719.952235440076, 56454.11063013333, 66605.39278182668, 78330.06453346997, 91771.2648708952, 107043.87344174026, 124214.69037141647, 143277.99247140146, 164127.45106268383, 186526.7625728759, 210083.08621260556, 234229.22003477698, 258221.8033263431, 281162.8654054506, 302049.8467219679, 319854.2892748946, 333622.1949648442, 342581.395728372, 346236.04571244546, 344428.32053318014, 337353.6831722548, 325527.0169225588, 309708.6497867736, 290807.57277414756, 269781.5332600407, 247550.43125531002, 224932.8874624309, 202608.83919987537, 181105.62255183927, 160802.01678414218, 141943.9311315337, 124666.07652483037, 109015.31517332915, 94972.84682564827, 82473.6503115017, 71422.53218312401, 61706.744171167804, 53205.47838988732, 45796.708818763786, 39361.88691826114, 33788.96995229666, 28974.198225212815, 24822.964276016326, 21250.045745624066, 18179.410372685703, 15543.748675503808, 13283.847424622014, 11347.883984017635, 9690.69654658662, 8273.066699300294, 7061.0372385355895]}, {\"line\": {\"color\": \"#DE1738\", \"width\": 2}, \"name\": \"Infectados\", \"showlegend\": true, \"type\": \"scatter\", \"visible\": false, \"x\": [0, 1, 2, 3, 4, 5, 6, 7, 8, 9, 10, 11, 12, 13, 14, 15, 16, 17, 18, 19, 20, 21, 22, 23, 24, 25, 26, 27, 28, 29, 30, 31, 32, 33, 34, 35, 36, 37, 38, 39, 40, 41, 42, 43, 44, 45, 46, 47, 48, 49, 50, 51, 52, 53, 54, 55, 56, 57, 58, 59, 60, 61, 62, 63, 64, 65, 66, 67, 68, 69, 70, 71, 72, 73, 74, 75, 76, 77, 78, 79, 80, 81, 82, 83, 84, 85, 86, 87, 88, 89, 90], \"y\": [32.0, 41.6, 49.119703100591714, 57.40713350265799, 67.0150070378274, 78.22037040741378, 91.2976762315746, 106.56072281702583, 124.37484284176871, 145.1662413093551, 169.43223690511383, 197.7531165280957, 230.80594263704492, 269.38064336540356, 314.3987595871392, 366.93528134893734, 428.2440738961534, 499.78747123988575, 583.2707038234549, 680.6819273953931, 794.3387336487448, 926.9421503090712, 1081.6392795508998, 1262.0958787089771, 1472.5803551269858, 1718.0608251875944, 2004.317071641379, 2338.0694160085736, 2727.126692791433, 3180.5556527086833, 3708.874208793958, 4324.27093741974, 5040.853107907707, 5874.925173170677, 6845.299020232644, 7973.636234055895, 9284.821014037121, 10807.359997374964, 12573.80183110115, 14621.164578607479, 16991.352568568607, 19731.53566071594, 22894.452648416973, 26538.586194682222, 30728.13896733095, 35532.719423202296, 41026.621411049746, 47287.555681194186, 54394.66608114609, 62425.64314938022, 71452.74000007694, 81537.5099127866, 92724.13525378187, 105031.31919006689, 118442.88142876864, 132897.44916744815, 148277.96545901152, 164402.1288822387, 181015.27830215413, 197787.55260281212, 214317.2586913232, 230142.12678335063, 244759.4027776325, 257654.4969644778, 268336.3032732667, 276375.63200860046, 281441.9085350665, 283332.8391076763, 281992.4229562131, 277514.46374792483, 270131.20777797466, 260189.26946470837, 248116.9427773915, 234387.9091923701, 219486.15855600528, 203875.88185481913, 187978.59641509296, 172158.2519214019, 156713.8469425346, 141878.30147145566, 127821.97838573849, 114659.23424456206, 102456.58446345432, 91241.37563815495, 81010.18362514832, 71736.44789253225, 63377.08635371338, 55878.00538389215, 49178.53312454665, 43214.87156410995, 37922.69623939045]}, {\"line\": {\"color\": \"#DE1738\", \"width\": 2}, \"name\": \"Infectados\", \"showlegend\": true, \"type\": \"scatter\", \"visible\": false, \"x\": [0, 1, 2, 3, 4, 5, 6, 7, 8, 9, 10, 11, 12, 13, 14, 15, 16, 17, 18, 19, 20, 21, 22, 23, 24, 25, 26, 27, 28, 29, 30, 31, 32, 33, 34, 35, 36, 37, 38, 39, 40, 41, 42, 43, 44, 45, 46, 47, 48, 49, 50, 51, 52, 53, 54, 55, 56, 57, 58, 59, 60, 61, 62, 63, 64, 65, 66, 67, 68, 69, 70, 71, 72, 73, 74, 75, 76, 77, 78, 79, 80, 81, 82, 83, 84, 85, 86, 87, 88, 89, 90], \"y\": [32.0, 41.6, 47.99974551479289, 54.49526886663098, 61.723331787278696, 69.88545103433798, 79.12259521593715, 89.57971497269278, 101.41843660752706, 114.82130103498926, 129.99486046828522, 147.17289604193135, 166.62000894683666, 188.6356731973639, 213.55881632373683, 241.77299708217967, 273.71225696430196, 309.8677316273106, 350.7951188891179, 397.12311163413716, 449.56291692917716, 508.91899693384966, 576.1011828760173, 652.1383305003778, 738.1937040075601, 835.5822955583529, 945.7903088368895, 1070.4970577757476, 1211.5995550559935, 1371.2400889605692, 1551.8371109268567, 1756.119778788278, 1987.1665209359735, 2248.4480027340032, 2543.874886165166, 2877.8507738078483, 3255.33071485143, 3681.885618785902, 4163.772865042762, 4708.013305840995, 5322.474724281863, 6015.961617256456, 6798.310906891141, 7680.49282551355, 8674.715744072219, 9794.533095039484, 11054.94974633133, 12472.524177117935, 14065.461551181656, 15853.691239492226, 17858.920474325812, 20104.65359406717, 22616.163748623472, 25420.400996047334, 28545.817491682057, 32022.08707766804, 35879.693241158006, 40149.35646646085, 44861.269960942656, 50044.112280617584, 55723.80742921087, 61922.00868312908, 68654.29301458597, 75928.06993707147, 83740.2331624275, 92074.61650307939, 100899.35699580814, 110164.31689412997, 119798.76862215485, 129709.59715841945, 139780.3140640108, 149871.19554875395, 159820.84144308476, 169449.39155838673, 178563.52363906932, 186963.193617222, 194449.87570508503, 200835.84074929374, 205953.81052345192, 209666.18272214118, 211872.97238098818, 212517.68302387648, 211590.50636622283, 209128.52959957434, 205212.95976047352, 199963.6997457707, 193531.87639780663, 186091.08837384518, 177828.19316236133, 168934.3951404074, 159597.25525896368]}, {\"line\": {\"color\": \"#DE1738\", \"width\": 2}, \"name\": \"Infectados\", \"showlegend\": true, \"type\": \"scatter\", \"visible\": false, \"x\": [0, 1, 2, 3, 4, 5, 6, 7, 8, 9, 10, 11, 12, 13, 14, 15, 16, 17, 18, 19, 20, 21, 22, 23, 24, 25, 26, 27, 28, 29, 30, 31, 32, 33, 34, 35, 36, 37, 38, 39, 40, 41, 42, 43, 44, 45, 46, 47, 48, 49, 50, 51, 52, 53, 54, 55, 56, 57, 58, 59, 60, 61, 62, 63, 64, 65, 66, 67, 68, 69, 70, 71, 72, 73, 74, 75, 76, 77, 78, 79, 80, 81, 82, 83, 84, 85, 86, 87, 88, 89, 90], \"y\": [32.0, 41.6, 46.879787928994084, 51.58340037105785, 56.51003247118347, 61.85621004596474, 67.69758886981477, 74.08829594246947, 81.08166604813802, 88.73484671715187, 97.11011851039594, 106.27557487294513, 116.30570843284491, 127.28201969482448, 139.29367579464775, 152.43822916909087, 166.8224027033628, 182.56294763944595, 199.78758090222445, 218.63600904139474, 239.26104659834468, 261.82983737009755, 286.52518775488306, 313.5470221268391, 343.1139710020325, 375.4651036253033, 410.8618175276513, 449.5898985763799, 491.9617660632758, 538.3189184465527, 589.0345964751967, 644.5166815725089, 705.2108485290855, 771.603992740838, 844.2279534073614, 923.6635552573963, 1010.5449924624689, 1105.5645794008417, 1209.4778937964738, 1323.1093384259707, 1447.3581479919014, 1583.204867819757, 1731.7183306466654, 1894.0631568102845, 2071.507801468979, 2265.433169913698, 2477.3418183589947, 2708.8677525781977, 2961.786830084983, 3238.0277629199877, 3539.6837070803604, 3869.024410773858, 4228.508876460755, 4620.798470466248, 5048.770388125154, 5515.531351201258, 6024.43137686779, 6579.077412931388, 7183.346581254573, 7841.3987094637405, 8557.687758992104, 9336.971674306153, 10184.320082906888, 11105.119167680636, 12105.07291200532, 13190.199783768348, 14366.82377785502, 15641.558579362636, 17021.283444631576, 18513.109228566962, 20124.332821027197, 21862.37810107438, 23734.721387317153, 25748.799270516087, 27911.896679969806, 30231.013080994137, 32712.704854313593, 35362.90220066043, 38186.699379828744, 41188.117769204386, 44369.84214827509, 47732.931814895295, 51276.509639817305, 54997.43397761443, 58889.96046267577, 62945.403087192324, 67151.80650516739, 71493.64410860912, 75951.55890495503, 80502.16636247336, 85117.93990992745]}, {\"line\": {\"color\": \"#DE1738\", \"width\": 2}, \"name\": \"Infectados\", \"showlegend\": true, \"type\": \"scatter\", \"visible\": false, \"x\": [0, 1, 2, 3, 4, 5, 6, 7, 8, 9, 10, 11, 12, 13, 14, 15, 16, 17, 18, 19, 20, 21, 22, 23, 24, 25, 26, 27, 28, 29, 30, 31, 32, 33, 34, 35, 36, 37, 38, 39, 40, 41, 42, 43, 44, 45, 46, 47, 48, 49, 50, 51, 52, 53, 54, 55, 56, 57, 58, 59, 60, 61, 62, 63, 64, 65, 66, 67, 68, 69, 70, 71, 72, 73, 74, 75, 76, 77, 78, 79, 80, 81, 82, 83, 84, 85, 86, 87, 88, 89, 90], \"y\": [32.0, 41.6, 45.75983034319526, 48.671528015938556, 51.37510980646787, 54.132652673581134, 57.014447320211445, 60.043729344972554, 63.23242784193277, 66.59000788269056, 70.12567091600289, 73.8489161728041, 77.76969835450346, 81.89848663672797, 86.24630035020827, 90.82473999819781, 95.64601827268129, 100.72299227837497, 106.06919732363895, 111.69888243041653, 117.62704766715025, 123.86948339978238, 130.44281155693096, 137.36452900884882, 144.65305316402976, 152.32776989187425, 160.4090838845565, 168.91847157611826, 177.87853674183523, 187.31306890606103, 197.24710469203546, 207.70699225254492, 218.7204589258308, 230.31668226674086, 242.52636460879734, 255.38181131858963, 268.917012909672, 283.16773118892553, 298.17158961410456, 313.9681680469891, 330.5991020921721, 348.108187216972, 366.5414878532281, 385.9474516867437, 406.3770293448271, 427.88379969665925, 450.5241009850073, 474.3571680110018, 499.4452755961946, 525.8538885477878, 553.6518183536333, 582.9113868331908, 613.7085969689266, 646.1233111394411, 680.2394369707191, 716.1451210150576, 753.9329504581801, 793.7001630435113, 835.5488653882123, 879.5862598480433, 925.9248800669994, 974.6828353225607, 1025.984063747798, 1079.9585944770033, 1136.7428187213675, 1196.4797697349131, 1259.3194115777246, 1325.4189365227642, 1394.943070883453, 1468.0643889608355, 1544.963634720644, 1625.8300507109304, 1710.861713619051, 1800.2658757415693, 1894.2593115008399, 1993.0686679863672, 2096.9308183261533, 2206.0932165016925, 2320.8142520085844, 2441.3636025313094, 2568.0225825439943, 2701.0844854673064, 2840.85491670331, 2987.6521145335414, 3141.807255499048, 3303.6647404831733, 3473.582457286871, 3651.932015021071, 3839.0989451398486, 4035.4828634010037, 4241.497586466612]}, {\"line\": {\"color\": \"#DE1738\", \"width\": 2}, \"name\": \"Infectados\", \"showlegend\": true, \"type\": \"scatter\", \"visible\": false, \"x\": [0, 1, 2, 3, 4, 5, 6, 7, 8, 9, 10, 11, 12, 13, 14, 15, 16, 17, 18, 19, 20, 21, 22, 23, 24, 25, 26, 27, 28, 29, 30, 31, 32, 33, 34, 35, 36, 37, 38, 39, 40, 41, 42, 43, 44, 45, 46, 47, 48, 49, 50, 51, 52, 53, 54, 55, 56, 57, 58, 59, 60, 61, 62, 63, 64, 65, 66, 67, 68, 69, 70, 71, 72, 73, 74, 75, 76, 77, 78, 79, 80, 81, 82, 83, 84, 85, 86, 87, 88, 89, 90], \"y\": [32.0, 41.6, 44.639872757396446, 45.75965180127313, 46.318564510060206, 46.714784035055956, 47.064959431172845, 47.403272033291145, 47.739745636486745, 48.077327516258826, 48.41689204999289, 48.758706455064285, 49.102860156943606, 49.44939056735531, 49.79831992979687, 50.149666113348424, 50.50344577493627, 50.859675286017044, 51.21837100437118, 51.579549354052006, 51.9432268491357, 52.30942010100817, 52.67814582082908, 53.04942082058308, 53.42326201371708, 53.799686415656105, 54.17871114428349, 54.56035342041048, 54.94463056824244, 55.33156001584392, 55.721159295603066, 56.113446044695564, 56.508438005548065, 56.906153026301105, 57.30660906127146, 57.70982417141388, 58.115816524782126, 58.52460439698932, 58.93620617166744, 59.35064034092608, 59.76792550581014, 60.188080376756744, 60.61112377405101, 61.037074628280756, 61.46595198079012, 61.897774984131914, 62.332562902518696, 62.770335112272555, 63.21111110227346, 63.65491047440615, 64.10175294400544, 64.55165834029998, 65.00464660685427, 65.46073780200898, 65.91995209931942, 66.38230978799199, 66.84783127331887, 67.3165370771105, 67.78844783812595, 68.26358431250105, 68.74196737417437, 69.22361801531055, 69.70855734672148, 70.1968065982847, 70.68838711935919, 71.18332037919866, 71.68162796736168, 72.18333159411922, 72.68845309085903, 73.1970144104869, 73.70903762782494, 74.2245449400064, 74.74355866686709, 75.2661012513336, 75.79219525980754, 76.32186338254651, 76.85512843404092, 77.39201335338727, 77.93254120465714, 78.47673517726234, 79.02461858631561, 79.57621487298721, 80.13154760485689, 80.6906404762615, 81.25351730863781, 81.82020205086053, 82.39071877957547, 82.96509169952778, 83.54334514388488, 84.12550357455413, 84.71159158249526]}, {\"line\": {\"color\": \"#DE1738\", \"width\": 2}, \"name\": \"Infectados\", \"showlegend\": true, \"type\": \"scatter\", \"visible\": false, \"x\": [0, 1, 2, 3, 4, 5, 6, 7, 8, 9, 10, 11, 12, 13, 14, 15, 16, 17, 18, 19, 20, 21, 22, 23, 24, 25, 26, 27, 28, 29, 30, 31, 32, 33, 34, 35, 36, 37, 38, 39, 40, 41, 42, 43, 44, 45, 46, 47, 48, 49, 50, 51, 52, 53, 54, 55, 56, 57, 58, 59, 60, 61, 62, 63, 64, 65, 66, 67, 68, 69, 70, 71, 72, 73, 74, 75, 76, 77, 78, 79, 80, 81, 82, 83, 84, 85, 86, 87, 88, 89, 90], \"y\": [32.0, 41.6, 43.51991517159763, 42.84777172706156, 41.34039729889091, 39.60260913483756, 37.84091283123661, 36.124174456052536, 34.47377238535662, 32.89477237995062, 31.386704877875815, 29.947287620201568, 28.57370852689886, 27.26306495656708, 26.01251138986086, 24.819306459831544, 23.680825354518664, 22.59456041942601, 21.558117847204446, 20.569213174848112, 19.625666521949093, 18.725397885901945, 17.866422596638103, 17.046846959995044, 16.264864093700773, 15.518749951540514, 14.806859528625939, 14.127623240023604, 13.479543465010167, 12.861191249455318, 12.271203159133394, 11.708278277077724, 11.171175338400118, 10.658709996295435, 10.169752213236402, 9.703223771636633, 9.258095898520315, 8.833386998985834, 8.428160493488212, 8.041522754192016, 7.672621135862908, 7.3206420969728105, 6.98480940689089, 6.664382435221054, 6.358654519526408, 6.066951407852838, 5.7886297726276865, 5.523075792665955, 5.269703800165723, 5.027954989716973, 4.797296186484029, 4.577218670851657, 4.367237056948715, 4.166888222581576, 3.9757302882223526, 3.793341642804684, 3.6193200141826907, 3.453281582206754, 3.294860132463465, 3.14370624881643, 2.9994865429699087, 2.861882919358638, 2.7305918737448893, 2.6053238239779053, 2.4858024714416103, 2.3717641917839867, 2.262957453585935, 2.159142263688891, 2.0600896379591487, 1.9655810963228142, 1.8754081809587222, 1.789371996587637, 1.7072827718446881, 1.6289594407684171, 1.5542292434840974, 1.4829273452012546, 1.4148964726856512, 1.3499865674044755, 1.2880544545802002, 1.2289635274236186, 1.1725834458500015, 1.118789849014218, 1.067464081031117, 1.0184929292765035, 0.9717683746917773, 0.9271873535417334, 0.8846515301002755, 0.8440670797628673, 0.8053444821075263, 0.7683983234480887, 0.7331471084443947]}, {\"line\": {\"color\": \"#DE1738\", \"width\": 2}, \"name\": \"Infectados\", \"showlegend\": true, \"type\": \"scatter\", \"visible\": false, \"x\": [0, 1, 2, 3, 4, 5, 6, 7, 8, 9, 10, 11, 12, 13, 14, 15, 16, 17, 18, 19, 20, 21, 22, 23, 24, 25, 26, 27, 28, 29, 30, 31, 32, 33, 34, 35, 36, 37, 38, 39, 40, 41, 42, 43, 44, 45, 46, 47, 48, 49, 50, 51, 52, 53, 54, 55, 56, 57, 58, 59, 60, 61, 62, 63, 64, 65, 66, 67, 68, 69, 70, 71, 72, 73, 74, 75, 76, 77, 78, 79, 80, 81, 82, 83, 84, 85, 86, 87, 88, 89, 90], \"y\": [32.0, 41.6, 42.399957585798816, 39.93588779330385, 36.44060888989259, 32.796132863951826, 29.334093940885076, 26.16368101227428, 23.305792571605867, 20.747742442192354, 18.465410513232808, 16.432071033211717, 14.621784338705051, 13.01058375843727, 11.57678059933989, 10.300927404045863, 9.165658863179164, 8.155498410772145, 7.256664864294754, 6.456891648671944, 5.7452623634226105, 5.1120630028535015, 4.548649860094593, 4.047331741842819, 3.601265062482565, 3.2043604580296075, 2.8511996749032416, 2.536961611260786, 2.2573565063653547, 2.008567381721025, 1.7871979354790537, 1.5902261792041859, 1.4149631842658879, 1.2590163747798901, 1.120256866050326, 0.996790402669432, 0.8869314995615779, 0.7891804329769123, 0.7022027673417186, 0.6248111384877975, 0.555949044583857, 0.4946764234982712, 0.4401568197086395, 0.39164596557216014, 0.34848162107808384, 0.310074533382959, 0.27590039271551, 0.24549267483945603, 0.21843627236503496, 0.19436182796865314, 0.17294069216191815, 0.1538804367771391, 0.13692086292256564, 0.12183044891074724, 0.10840318966956718, 0.09645578448973308, 0.08582513471773662, 0.07636611723444799, 0.06794960332433815, 0.06046069589022471, 0.053797160949138355, 0.04786803199710093, 0.04259236819049613, 0.03789814939151515, 0.033721292993537946, 0.0300047791047704, 0.026697872147694538, 0.023755428248095053, 0.02113727895856996, 0.01880768290350263, 0.016734837859693357, 0.014890446611877833, 0.013249330656460964, 0.011789086479988121, 0.010489779720079752, 0.009333673033702925, 0.008304983957805016, 0.007389669456771851, 0.006575234215484583, 0.005850560060909862, 0.0052057541835914475, 0.004632014087056191, 0.0041215074215063775, 0.003667265061361649, 0.0032630859670105166, 0.002903452532002343, 0.002583455260051437, 0.0022987257435897698, 0.002045377028932499, 0.001819950553957979, 0.001619368933927894]}, {\"line\": {\"color\": \"#DE1738\", \"width\": 2}, \"name\": \"Infectados\", \"showlegend\": true, \"type\": \"scatter\", \"visible\": false, \"x\": [0, 1, 2, 3, 4, 5, 6, 7, 8, 9, 10, 11, 12, 13, 14, 15, 16, 17, 18, 19, 20, 21, 22, 23, 24, 25, 26, 27, 28, 29, 30, 31, 32, 33, 34, 35, 36, 37, 38, 39, 40, 41, 42, 43, 44, 45, 46, 47, 48, 49, 50, 51, 52, 53, 54, 55, 56, 57, 58, 59, 60, 61, 62, 63, 64, 65, 66, 67, 68, 69, 70, 71, 72, 73, 74, 75, 76, 77, 78, 79, 80, 81, 82, 83, 84, 85, 86, 87, 88, 89, 90], \"y\": [32.0, 41.6, 41.28, 37.02400000000001, 31.6192, 26.29536, 21.536288, 17.4790304, 14.10822432, 11.349079455999998, 9.110513564799998, 7.304035851839999, 5.851041181472, 4.6847391951776, 3.7497444811420797, 3.0007721474136635, 2.4011059991809307, 1.9211289399697447, 1.5370252222882956, 1.2296812129868864, 0.9837754879676343, 0.7870356491631699, 0.6296361487250672, 0.5037127336773194, 0.40297209429048836, 0.32237862910670706, 0.25790338012252384, 0.20632294251659816, 0.1650584732225681, 0.13204683818269924, 0.1056375003484818, 0.08451001517994663, 0.06760801959453791, 0.05408641940092062, 0.043269137383381645, 0.03461531083802789, 0.027692249136083605, 0.022153799541697525, 0.017723039749773344, 0.014178431858026336, 0.011342745515524898, 0.009074196426971834, 0.0072593571488534245, 0.005807485722720718, 0.004645988579995564, 0.003716790864905946, 0.0029734326923795042, 0.002378746154130977, 0.0019029969234184685, 0.001522397538791618, 0.0012179180310617163, 0.0009743344248635838, 0.0007794675398979725, 0.0006235740319219307, 0.0004988592255393209, 0.0003990873804323448, 0.00031926990434632, 0.00025541592347727804, 0.00020433273878193346, 0.00016346619102560226, 0.00013077295282050956, 0.00010461836225642152, 8.369468980514416e-05, 6.695575184411881e-05, 5.356460147529678e-05, 4.285168118023829e-05, 3.428134494419107e-05, 2.7425075955353073e-05, 2.194006076428257e-05, 1.7552048611426107e-05, 1.4041638889140914e-05, 1.1233311111312745e-05, 8.986648889050204e-06, 7.189319111240166e-06, 5.751455288992134e-06, 4.6011642311937084e-06, 3.6809313849549675e-06, 2.944745107963974e-06, 2.3557960863711795e-06, 1.8846368690969435e-06, 1.507709495277555e-06, 1.206167596222044e-06, 9.64934076977635e-07, 7.719472615821081e-07, 6.175578092656865e-07, 4.940462474125492e-07, 3.952369979300393e-07, 3.161895983440315e-07, 2.529516786752252e-07, 2.0236134294018015e-07, 1.618890743521441e-07]}],\n",
       "                        {\"sliders\": [{\"active\": 0, \"currentvalue\": {\"prefix\": \"Distanciamiento (Theta): \"}, \"pad\": {\"t\": 50}, \"steps\": [{\"args\": [\"visible\", [true, false, false, false, false, false, false, false, false, false, false]], \"label\": \"Caso Omiso\", \"method\": \"restyle\"}, {\"args\": [\"visible\", [false, true, false, false, false, false, false, false, false, false, false]], \"label\": \"0.9\", \"method\": \"restyle\"}, {\"args\": [\"visible\", [false, false, true, false, false, false, false, false, false, false, false]], \"label\": \"0.8\", \"method\": \"restyle\"}, {\"args\": [\"visible\", [false, false, false, true, false, false, false, false, false, false, false]], \"label\": \"0.7\", \"method\": \"restyle\"}, {\"args\": [\"visible\", [false, false, false, false, true, false, false, false, false, false, false]], \"label\": \"0.6\", \"method\": \"restyle\"}, {\"args\": [\"visible\", [false, false, false, false, false, true, false, false, false, false, false]], \"label\": \"0.5\", \"method\": \"restyle\"}, {\"args\": [\"visible\", [false, false, false, false, false, false, true, false, false, false, false]], \"label\": \"0.4\", \"method\": \"restyle\"}, {\"args\": [\"visible\", [false, false, false, false, false, false, false, true, false, false, false]], \"label\": \"0.3\", \"method\": \"restyle\"}, {\"args\": [\"visible\", [false, false, false, false, false, false, false, false, true, false, false]], \"label\": \"0.2\", \"method\": \"restyle\"}, {\"args\": [\"visible\", [false, false, false, false, false, false, false, false, false, true, false]], \"label\": \"0.1\", \"method\": \"restyle\"}, {\"args\": [\"visible\", [false, false, false, false, false, false, false, false, false, false, true]], \"label\": \"Aislamiento Total\", \"method\": \"restyle\"}]}], \"template\": {\"data\": {\"bar\": [{\"error_x\": {\"color\": \"#2a3f5f\"}, \"error_y\": {\"color\": \"#2a3f5f\"}, \"marker\": {\"line\": {\"color\": \"#E5ECF6\", \"width\": 0.5}}, \"type\": \"bar\"}], \"barpolar\": [{\"marker\": {\"line\": {\"color\": \"#E5ECF6\", \"width\": 0.5}}, \"type\": \"barpolar\"}], \"carpet\": [{\"aaxis\": {\"endlinecolor\": \"#2a3f5f\", \"gridcolor\": \"white\", \"linecolor\": \"white\", \"minorgridcolor\": \"white\", \"startlinecolor\": \"#2a3f5f\"}, \"baxis\": {\"endlinecolor\": \"#2a3f5f\", \"gridcolor\": \"white\", \"linecolor\": \"white\", \"minorgridcolor\": \"white\", \"startlinecolor\": \"#2a3f5f\"}, \"type\": \"carpet\"}], \"choropleth\": [{\"colorbar\": {\"outlinewidth\": 0, \"ticks\": \"\"}, \"type\": \"choropleth\"}], \"contour\": [{\"colorbar\": {\"outlinewidth\": 0, \"ticks\": \"\"}, \"colorscale\": [[0.0, \"#0d0887\"], [0.1111111111111111, \"#46039f\"], [0.2222222222222222, \"#7201a8\"], [0.3333333333333333, \"#9c179e\"], [0.4444444444444444, \"#bd3786\"], [0.5555555555555556, \"#d8576b\"], [0.6666666666666666, \"#ed7953\"], [0.7777777777777778, \"#fb9f3a\"], [0.8888888888888888, \"#fdca26\"], [1.0, \"#f0f921\"]], \"type\": \"contour\"}], \"contourcarpet\": [{\"colorbar\": {\"outlinewidth\": 0, \"ticks\": \"\"}, \"type\": \"contourcarpet\"}], \"heatmap\": [{\"colorbar\": {\"outlinewidth\": 0, \"ticks\": \"\"}, \"colorscale\": [[0.0, \"#0d0887\"], [0.1111111111111111, \"#46039f\"], [0.2222222222222222, \"#7201a8\"], [0.3333333333333333, \"#9c179e\"], [0.4444444444444444, \"#bd3786\"], [0.5555555555555556, \"#d8576b\"], [0.6666666666666666, \"#ed7953\"], [0.7777777777777778, \"#fb9f3a\"], [0.8888888888888888, \"#fdca26\"], [1.0, \"#f0f921\"]], \"type\": \"heatmap\"}], \"heatmapgl\": [{\"colorbar\": {\"outlinewidth\": 0, \"ticks\": \"\"}, \"colorscale\": [[0.0, \"#0d0887\"], [0.1111111111111111, \"#46039f\"], [0.2222222222222222, \"#7201a8\"], [0.3333333333333333, \"#9c179e\"], [0.4444444444444444, \"#bd3786\"], [0.5555555555555556, \"#d8576b\"], [0.6666666666666666, \"#ed7953\"], [0.7777777777777778, \"#fb9f3a\"], [0.8888888888888888, \"#fdca26\"], [1.0, \"#f0f921\"]], \"type\": \"heatmapgl\"}], \"histogram\": [{\"marker\": {\"colorbar\": {\"outlinewidth\": 0, \"ticks\": \"\"}}, \"type\": \"histogram\"}], \"histogram2d\": [{\"colorbar\": {\"outlinewidth\": 0, \"ticks\": \"\"}, \"colorscale\": [[0.0, \"#0d0887\"], [0.1111111111111111, \"#46039f\"], [0.2222222222222222, \"#7201a8\"], [0.3333333333333333, \"#9c179e\"], [0.4444444444444444, \"#bd3786\"], [0.5555555555555556, \"#d8576b\"], [0.6666666666666666, \"#ed7953\"], [0.7777777777777778, \"#fb9f3a\"], [0.8888888888888888, \"#fdca26\"], [1.0, \"#f0f921\"]], \"type\": \"histogram2d\"}], \"histogram2dcontour\": [{\"colorbar\": {\"outlinewidth\": 0, \"ticks\": \"\"}, \"colorscale\": [[0.0, \"#0d0887\"], [0.1111111111111111, \"#46039f\"], [0.2222222222222222, \"#7201a8\"], [0.3333333333333333, \"#9c179e\"], [0.4444444444444444, \"#bd3786\"], [0.5555555555555556, \"#d8576b\"], [0.6666666666666666, \"#ed7953\"], [0.7777777777777778, \"#fb9f3a\"], [0.8888888888888888, \"#fdca26\"], [1.0, \"#f0f921\"]], \"type\": \"histogram2dcontour\"}], \"mesh3d\": [{\"colorbar\": {\"outlinewidth\": 0, \"ticks\": \"\"}, \"type\": \"mesh3d\"}], \"parcoords\": [{\"line\": {\"colorbar\": {\"outlinewidth\": 0, \"ticks\": \"\"}}, \"type\": \"parcoords\"}], \"pie\": [{\"automargin\": true, \"type\": \"pie\"}], \"scatter\": [{\"marker\": {\"colorbar\": {\"outlinewidth\": 0, \"ticks\": \"\"}}, \"type\": \"scatter\"}], \"scatter3d\": [{\"line\": {\"colorbar\": {\"outlinewidth\": 0, \"ticks\": \"\"}}, \"marker\": {\"colorbar\": {\"outlinewidth\": 0, \"ticks\": \"\"}}, \"type\": \"scatter3d\"}], \"scattercarpet\": [{\"marker\": {\"colorbar\": {\"outlinewidth\": 0, \"ticks\": \"\"}}, \"type\": \"scattercarpet\"}], \"scattergeo\": [{\"marker\": {\"colorbar\": {\"outlinewidth\": 0, \"ticks\": \"\"}}, \"type\": \"scattergeo\"}], \"scattergl\": [{\"marker\": {\"colorbar\": {\"outlinewidth\": 0, \"ticks\": \"\"}}, \"type\": \"scattergl\"}], \"scattermapbox\": [{\"marker\": {\"colorbar\": {\"outlinewidth\": 0, \"ticks\": \"\"}}, \"type\": \"scattermapbox\"}], \"scatterpolar\": [{\"marker\": {\"colorbar\": {\"outlinewidth\": 0, \"ticks\": \"\"}}, \"type\": \"scatterpolar\"}], \"scatterpolargl\": [{\"marker\": {\"colorbar\": {\"outlinewidth\": 0, \"ticks\": \"\"}}, \"type\": \"scatterpolargl\"}], \"scatterternary\": [{\"marker\": {\"colorbar\": {\"outlinewidth\": 0, \"ticks\": \"\"}}, \"type\": \"scatterternary\"}], \"surface\": [{\"colorbar\": {\"outlinewidth\": 0, \"ticks\": \"\"}, \"colorscale\": [[0.0, \"#0d0887\"], [0.1111111111111111, \"#46039f\"], [0.2222222222222222, \"#7201a8\"], [0.3333333333333333, \"#9c179e\"], [0.4444444444444444, \"#bd3786\"], [0.5555555555555556, \"#d8576b\"], [0.6666666666666666, \"#ed7953\"], [0.7777777777777778, \"#fb9f3a\"], [0.8888888888888888, \"#fdca26\"], [1.0, \"#f0f921\"]], \"type\": \"surface\"}], \"table\": [{\"cells\": {\"fill\": {\"color\": \"#EBF0F8\"}, \"line\": {\"color\": \"white\"}}, \"header\": {\"fill\": {\"color\": \"#C8D4E3\"}, \"line\": {\"color\": \"white\"}}, \"type\": \"table\"}]}, \"layout\": {\"annotationdefaults\": {\"arrowcolor\": \"#2a3f5f\", \"arrowhead\": 0, \"arrowwidth\": 1}, \"coloraxis\": {\"colorbar\": {\"outlinewidth\": 0, \"ticks\": \"\"}}, \"colorscale\": {\"diverging\": [[0, \"#8e0152\"], [0.1, \"#c51b7d\"], [0.2, \"#de77ae\"], [0.3, \"#f1b6da\"], [0.4, \"#fde0ef\"], [0.5, \"#f7f7f7\"], [0.6, \"#e6f5d0\"], [0.7, \"#b8e186\"], [0.8, \"#7fbc41\"], [0.9, \"#4d9221\"], [1, \"#276419\"]], \"sequential\": [[0.0, \"#0d0887\"], [0.1111111111111111, \"#46039f\"], [0.2222222222222222, \"#7201a8\"], [0.3333333333333333, \"#9c179e\"], [0.4444444444444444, \"#bd3786\"], [0.5555555555555556, \"#d8576b\"], [0.6666666666666666, \"#ed7953\"], [0.7777777777777778, \"#fb9f3a\"], [0.8888888888888888, \"#fdca26\"], [1.0, \"#f0f921\"]], \"sequentialminus\": [[0.0, \"#0d0887\"], [0.1111111111111111, \"#46039f\"], [0.2222222222222222, \"#7201a8\"], [0.3333333333333333, \"#9c179e\"], [0.4444444444444444, \"#bd3786\"], [0.5555555555555556, \"#d8576b\"], [0.6666666666666666, \"#ed7953\"], [0.7777777777777778, \"#fb9f3a\"], [0.8888888888888888, \"#fdca26\"], [1.0, \"#f0f921\"]]}, \"colorway\": [\"#636efa\", \"#EF553B\", \"#00cc96\", \"#ab63fa\", \"#FFA15A\", \"#19d3f3\", \"#FF6692\", \"#B6E880\", \"#FF97FF\", \"#FECB52\"], \"font\": {\"color\": \"#2a3f5f\"}, \"geo\": {\"bgcolor\": \"white\", \"lakecolor\": \"white\", \"landcolor\": \"#E5ECF6\", \"showlakes\": true, \"showland\": true, \"subunitcolor\": \"white\"}, \"hoverlabel\": {\"align\": \"left\"}, \"hovermode\": \"closest\", \"mapbox\": {\"style\": \"light\"}, \"paper_bgcolor\": \"white\", \"plot_bgcolor\": \"#E5ECF6\", \"polar\": {\"angularaxis\": {\"gridcolor\": \"white\", \"linecolor\": \"white\", \"ticks\": \"\"}, \"bgcolor\": \"#E5ECF6\", \"radialaxis\": {\"gridcolor\": \"white\", \"linecolor\": \"white\", \"ticks\": \"\"}}, \"scene\": {\"xaxis\": {\"backgroundcolor\": \"#E5ECF6\", \"gridcolor\": \"white\", \"gridwidth\": 2, \"linecolor\": \"white\", \"showbackground\": true, \"ticks\": \"\", \"zerolinecolor\": \"white\"}, \"yaxis\": {\"backgroundcolor\": \"#E5ECF6\", \"gridcolor\": \"white\", \"gridwidth\": 2, \"linecolor\": \"white\", \"showbackground\": true, \"ticks\": \"\", \"zerolinecolor\": \"white\"}, \"zaxis\": {\"backgroundcolor\": \"#E5ECF6\", \"gridcolor\": \"white\", \"gridwidth\": 2, \"linecolor\": \"white\", \"showbackground\": true, \"ticks\": \"\", \"zerolinecolor\": \"white\"}}, \"shapedefaults\": {\"line\": {\"color\": \"#2a3f5f\"}}, \"ternary\": {\"aaxis\": {\"gridcolor\": \"white\", \"linecolor\": \"white\", \"ticks\": \"\"}, \"baxis\": {\"gridcolor\": \"white\", \"linecolor\": \"white\", \"ticks\": \"\"}, \"bgcolor\": \"#E5ECF6\", \"caxis\": {\"gridcolor\": \"white\", \"linecolor\": \"white\", \"ticks\": \"\"}}, \"title\": {\"x\": 0.05}, \"xaxis\": {\"automargin\": true, \"gridcolor\": \"white\", \"linecolor\": \"white\", \"ticks\": \"\", \"title\": {\"standoff\": 15}, \"zerolinecolor\": \"white\", \"zerolinewidth\": 2}, \"yaxis\": {\"automargin\": true, \"gridcolor\": \"white\", \"linecolor\": \"white\", \"ticks\": \"\", \"title\": {\"standoff\": 15}, \"zerolinecolor\": \"white\", \"zerolinewidth\": 2}}}, \"title\": {\"text\": \"Predicci\\u00f3n del modelo SEIR de la evoluci\\u00f3n de COVID-19 en Monterrey, Mexico\"}, \"xaxis\": {\"title\": {\"text\": \"D\\u00edas\"}}, \"yaxis\": {\"title\": {\"text\": \"Infectados Totales\"}}},\n",
       "                        {\"responsive\": true}\n",
       "                    ).then(function(){\n",
       "                            \n",
       "var gd = document.getElementById('af158325-2ea6-4a87-9d71-80cccc6fa7ac');\n",
       "var x = new MutationObserver(function (mutations, observer) {{\n",
       "        var display = window.getComputedStyle(gd).display;\n",
       "        if (!display || display === 'none') {{\n",
       "            console.log([gd, 'removed!']);\n",
       "            Plotly.purge(gd);\n",
       "            observer.disconnect();\n",
       "        }}\n",
       "}});\n",
       "\n",
       "// Listen for the removal of the full notebook cells\n",
       "var notebookContainer = gd.closest('#notebook-container');\n",
       "if (notebookContainer) {{\n",
       "    x.observe(notebookContainer, {childList: true});\n",
       "}}\n",
       "\n",
       "// Listen for the clearing of the current output cell\n",
       "var outputEl = gd.closest('.output');\n",
       "if (outputEl) {{\n",
       "    x.observe(outputEl, {childList: true});\n",
       "}}\n",
       "\n",
       "                        })\n",
       "                };\n",
       "                });\n",
       "            </script>\n",
       "        </div>"
      ]
     },
     "metadata": {},
     "output_type": "display_data"
    }
   ],
   "source": [
    "#@title AISLAMIENTO SOCIAL VS CASO OMISO (Interactivo!)\n",
    "\n",
    "\n",
    "\n",
    "import plotly.graph_objects as go\n",
    "fig = go.Figure()\n",
    "\n",
    "for step in np.round(np.arange(0, 1.1, 0.1),1):\n",
    "  S,E,I,R = SEIR(Condiciones_Iniciales,parametros,periodo_evaluacion,1-step)\n",
    "  fig.add_trace(\n",
    "        go.Scatter(\n",
    "            visible=False,\n",
    "            showlegend = True,\n",
    "            line=dict(color=\"#DE1738\", width=2),\n",
    "            name=\"Infectados\",\n",
    "            x=np.arange(0, 91, 1),\n",
    "            y=np.array(I)*ZMM_Population)\n",
    "        )\n",
    "  \n",
    "\n",
    "fig.data[0].visible = True\n",
    "\n",
    "steps = []\n",
    "labels = np.round(np.arange(1.0, -0.1, -0.1),1).tolist()\n",
    "labels[0] = \"Caso Omiso\"\n",
    "labels[10] = \"Aislamiento Total\"\n",
    "for i in range(len(fig.data)):\n",
    "    step = dict(\n",
    "        method=\"restyle\",\n",
    "        args=[\"visible\", [False] * len(fig.data)],\n",
    "        label = str(labels[i])\n",
    "    )\n",
    "    step[\"args\"][1][i] = True  \n",
    "    steps.append(step)\n",
    "\n",
    "sliders = [dict(\n",
    "    active=0,\n",
    "    currentvalue={\"prefix\": \"Distanciamiento (Theta): \"},\n",
    "    pad={\"t\": 50},\n",
    "    steps=steps\n",
    ")]\n",
    "\n",
    "fig.update_layout(\n",
    "    sliders=sliders,\n",
    "    title=\"Predicción del modelo SEIR de la evolución de COVID-19 en Monterrey, Mexico\",\n",
    "    xaxis_title=\"Días\",\n",
    "    yaxis_title=\"Infectados Totales\",\n",
    ")\n",
    "\n",
    "fig.show()"
   ]
  },
  {
   "cell_type": "code",
   "execution_count": 9,
   "metadata": {
    "colab": {
     "base_uri": "https://localhost:8080/",
     "height": 478
    },
    "colab_type": "code",
    "id": "IvKHr8lNPfY2",
    "outputId": "b8ece125-548b-42a6-d485-2017264dc8ec"
   },
   "outputs": [
    {
     "data": {
      "text/plain": [
       "<matplotlib.legend.Legend at 0x7f04694884a8>"
      ]
     },
     "execution_count": 9,
     "metadata": {
      "tags": []
     },
     "output_type": "execute_result"
    },
    {
     "data": {
      "image/png": "[encoded data removed]",
      "text/plain": [
       "<Figure size 1152x432 with 1 Axes>"
      ]
     },
     "metadata": {
      "tags": []
     },
     "output_type": "display_data"
    }
   ],
   "source": [
    "#@title QUEDATE EN CASA { display-mode: \"form\" }\n",
    "\n",
    "periodo_evaluacion = np.linspace(0, 120, dias_evaluacion + 1)\n",
    "_,E_1,I_1,_ = SEIR(Condiciones_Iniciales,parametros,periodo_evaluacion)\n",
    "_,E_5,I_5,_ = SEIR(Condiciones_Iniciales,parametros,periodo_evaluacion,0.7)\n",
    "_,E_3,I_3,_ = SEIR(Condiciones_Iniciales,parametros,periodo_evaluacion,0.3)\n",
    "plt.figure(figsize= (16,6))\n",
    "plt.suptitle(\"Contribuye a aplanar la curva!\")\n",
    "plt.plot(E_1,label = \"Expuestos, theta = 1\", ls = \"--\",alpha=0.3,c=\"#FF0000\")\n",
    "plt.plot(I_1,label = \"Infectados, theta = 1\",c=\"#FF0000\")\n",
    "plt.plot(E_5,label = \"Expuestos, theta = 0.5\", ls = \"--\",alpha=0.3,c=\"#FFCC00\")\n",
    "plt.plot(I_5,label = \"Infectados, theta = 0.5\",c=\"#FFCC00\")\n",
    "plt.plot(E_3,label = \"Expuestos, theta = 0.3\", ls = \"--\",alpha=0.3,c=\"#99CC00\")\n",
    "plt.plot(I_3,label = \"Infectados, theta = 0.3\",c=\"#99CC00\")\n",
    "plt.ylabel(\"Proporcion de la población\")\n",
    "plt.xlabel(\"Dias\")\n",
    "plt.legend(bbox_to_anchor=(1.05, 1.0), loc='upper left')"
   ]
  },
  {
   "cell_type": "code",
   "execution_count": null,
   "metadata": {
    "colab": {},
    "colab_type": "code",
    "id": "JKeGaYn4UNvn"
   },
   "outputs": [],
   "source": []
  }
 ],
 "metadata": {
  "accelerator": "GPU",
  "colab": {
   "authorship_tag": "ABX9TyND7VdoJrHyc76hdFCB7URP",
   "include_colab_link": true,
   "name": "Desarrollo de COVID-19 en Guadalajara - Miguel Núñez",
   "provenance": []
  },
  "kernelspec": {
   "display_name": "Python 3",
   "language": "python",
   "name": "python3"
  },
  "language_info": {
   "codemirror_mode": {
    "name": "ipython",
    "version": 3
   },
   "file_extension": ".py",
   "mimetype": "text/x-python",
   "name": "python",
   "nbconvert_exporter": "python",
   "pygments_lexer": "ipython3",
   "version": "3.7.3"
  }
 },
 "nbformat": 4,
 "nbformat_minor": 2
}
